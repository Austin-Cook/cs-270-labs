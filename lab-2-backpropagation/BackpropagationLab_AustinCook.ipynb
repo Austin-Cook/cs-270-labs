{
  "cells": [
    {
      "cell_type": "markdown",
      "metadata": {
        "id": "DVL7_bgmIAPR"
      },
      "source": [
        "# Backpropagation Lab\n",
        "\n",
        "\n",
        "\n"
      ]
    },
    {
      "cell_type": "code",
      "execution_count": 1,
      "metadata": {
        "id": "6ZbYjZZZ_yLV"
      },
      "outputs": [],
      "source": [
        "from sklearn.neural_network import MLPClassifier\n",
        "from sklearn.neural_network import MLPRegressor\n",
        "from sklearn.model_selection import train_test_split\n",
        "from sklearn.metrics import mean_absolute_error\n",
        "from sklearn.preprocessing import MinMaxScaler\n",
        "import numpy as np\n",
        "from numpy import ndarray\n",
        "import pandas as pd\n",
        "import matplotlib.pyplot as plt\n",
        "from scipy.io import arff\n",
        "from typing import Tuple\n",
        "from typing import Literal\n",
        "from tabulate import tabulate\n",
        "import csv\n",
        "import math"
      ]
    },
    {
      "cell_type": "code",
      "source": [
        "IRIS_SETOSA = 0\n",
        "IRIS_VERSICOLOR = 1\n",
        "IRIS_VIRGINICA = 2\n",
        "FALSE, TRUE = 0, 1\n",
        "\n",
        "\n",
        "def load_iris() -> Tuple[ndarray, ndarray]:\n",
        "  \"\"\"\n",
        "  Purpose: Classification between 3 types of iris flowers\n",
        "\n",
        "  Features:\n",
        "    sepallength\t(REAL)\n",
        "    sepalwidth (REAL)\n",
        "    petallength (REAL)\n",
        "    petalwidth (REAL)\n",
        "\n",
        "  Classifications:\n",
        "    -> {Iris-setosa: 0, Iris-versicolor: 1, Iris-virginica: 2 }\n",
        "  \"\"\"\n",
        "  data_arff = arff.loadarff(\"iris.arff\")\n",
        "  data_df = pd.DataFrame(data_arff[0])\n",
        "  data_np = data_df.to_numpy()\n",
        "  X = data_np[:, :-1]\n",
        "  # y = data_np[:, -1]\n",
        "\n",
        "  # categorical -> indicator variables (create boolean for each possible option)\n",
        "  indicator_vars = pd.get_dummies(data_df['class']).to_numpy().astype(int)\n",
        "  y = indicator_vars\n",
        "\n",
        "  # convert strings/booleans to numbers\n",
        "  X = X.astype(float)\n",
        "  # y = np.where(y == b'Iris-setosa', IRIS_SETOSA, y)\n",
        "  # y = np.where(y == b'Iris-versicolor', IRIS_VERSICOLOR, y)\n",
        "  # y = np.where(y == b'Iris-virginica', IRIS_VIRGINICA, y)\n",
        "\n",
        "  return X, y\n",
        "\n",
        "\n",
        "TRAIN, TEST = 0, 1\n",
        "MALE, FEMALE = 0, 1\n",
        "hid, hId, hEd, hAd, hYd, had, hOd, hod, hUd, hud, hed = range(11)\n",
        "ANDREW, BILL, DAVID, MARK, JO, KATE, PENNY, ROSE, MIKE, NICK, RICH, TIM, SARAH, SUE, WENDY = range(15)\n",
        "\n",
        "\n",
        "def load_vowel():\n",
        "  \"\"\"\n",
        "  Purpose: Classify Vowel Sounds (Given Accoustic Features)\n",
        "\n",
        "  Features:\n",
        "    Train or Test { Train: 0, Test: 1}\n",
        "    Speaker Number { Andrew: 0, Bill: 1, David: 2, Mark: 3, Jo: 4, Kate: 5,\n",
        "                     Penny: 6, Rose: 7, Mike: 8, Nick: 9, Rich: 10, Tim: 11,\n",
        "                     Sarah: 12, Sue: 13, Wendy: 14 }\n",
        "    Sex { Male: 0, Female: 1}\n",
        "    Feature 0 (real)\n",
        "    Feature 1 (real)\n",
        "    Feature 2 (real)\n",
        "    Feature 3 (real)\n",
        "    Feature 4 (real)\n",
        "    Feature 5 (real)\n",
        "    Feature 6 (real)\n",
        "    Feature 7 (real)\n",
        "    Feature 8 (real)\n",
        "    Feature 9 (real)\n",
        "\n",
        "  Classifications:\n",
        "    -> { hid: 0, hId: 1, hEd: 2, hAd: 3, hYd: 4, had: 5, hOd: 6, hod: 7, hUd: 8,\n",
        "         hud: 9, hed: 10 }\n",
        "  \"\"\"\n",
        "  data_arff = arff.loadarff(\"vowel.arff\")\n",
        "  data_df = pd.DataFrame(data_arff[0])\n",
        "  data_df = data_df.drop(columns=['Train or Test', 'Speaker Number'])\n",
        "  data_np = data_df.to_numpy()\n",
        "  X = data_np[:, :-1]\n",
        "  # y = data_np[:, -1]\n",
        "\n",
        "  # categorical -> indicator variables (create boolean for each possible option)\n",
        "  indicator_vars = pd.get_dummies(data_df['Class']).to_numpy().astype(int)\n",
        "  y = indicator_vars\n",
        "\n",
        "  # convert strings to numbers\n",
        "  # X = np.where(X == b'Andrew', ANDREW, X)\n",
        "  # X = np.where(X == b'Bill', BILL, X)\n",
        "  # X = np.where(X == b'David', DAVID, X)\n",
        "  # X = np.where(X == b'Mark', MARK, X)\n",
        "  # X = np.where(X == b'Jo', JO, X)\n",
        "  # X = np.where(X == b'Kate', KATE, X)\n",
        "  # X = np.where(X == b'Penny', PENNY, X)\n",
        "  # X = np.where(X == b'Rose', ROSE, X)\n",
        "  # X = np.where(X == b'Mike', MIKE, X)\n",
        "  # X = np.where(X == b'Nick', NICK, X)\n",
        "  # X = np.where(X == b'Rich', RICH, X)\n",
        "  # X = np.where(X == b'Tim', TIM, X)\n",
        "  # X = np.where(X == b'Sarah', SARAH, X)\n",
        "  # X = np.where(X == b'Sue', SUE, X)\n",
        "  # X = np.where(X == b'Wendy', WENDY, X)\n",
        "  X = np.where(X == b'Male', MALE, X)\n",
        "  X = np.where(X == b'Female', FEMALE, X)\n",
        "  # y = np.where(y == b'hid', hid, y)\n",
        "  # y = np.where(y == b'hId', hId, y)\n",
        "  # y = np.where(y == b'hEd', hEd, y)\n",
        "  # y = np.where(y == b'hAd', hAd, y)\n",
        "  # y = np.where(y == b'hYd', hYd, y)\n",
        "  # y = np.where(y == b'had', had, y)\n",
        "  # y = np.where(y == b'hOd', hOd, y)\n",
        "  # y = np.where(y == b'hod', hod, y)\n",
        "  # y = np.where(y == b'hUd', hUd, y)\n",
        "  # y = np.where(y == b'hud', hud, y)\n",
        "  # y = np.where(y == b'hed', hed, y)\n",
        "\n",
        "  return X, y\n",
        "\n",
        "def load_real_estate_valuation(flatten=True) -> Tuple[ndarray, ndarray]:\n",
        "  \"\"\"\n",
        "  From: UC Irvine ML Repository\n",
        "  Purpose: Use Regression to Estimate House Price\n",
        "\n",
        "  Features:\n",
        "    X1 transaction date (REAL)\n",
        "    X2 house age (REAL)\n",
        "    X3 distance to the nearest MRT station (REAL)\n",
        "    X4 number of convenience stores (INT)\n",
        "    X5 latitude (REAL)\n",
        "    X6 longitude (REAL)\n",
        "\n",
        "  Regression:\n",
        "    Y house price of unit area (REAL)\n",
        "  \"\"\"\n",
        "  # load csv file\n",
        "  with open('real_estate_valuation.csv', 'r') as f:\n",
        "    reader = csv.reader(f)\n",
        "    data = list(reader)\n",
        "\n",
        "  # convert to numby array, and extract X and y\n",
        "  data = np.array(data)\n",
        "  X = data[1:, 1:-1]\n",
        "  y = data[1:, -1:]\n",
        "  X = X.astype(float)\n",
        "  y = y.astype(float)\n",
        "  if flatten:\n",
        "    y = y.flatten()\n",
        "\n",
        "  return X, y\n",
        "\n",
        "def plot_by_epochs(y_values: list, y_axis_title: str):\n",
        "    \"\"\"\n",
        "        Plots values on the y-axis with indexes (epochs) on the x-axis\n",
        "    Args:\n",
        "        y_values (array-like): A 1D array or list of y_values at every epoch\n",
        "    \"\"\"\n",
        "    plt.plot(np.arange(len(y_values)), y_values)\n",
        "    plt.title(y_axis_title + \" vs Epoch\")\n",
        "    plt.xlabel(\"Epoch\")\n",
        "    plt.ylabel(y_axis_title)\n",
        "    plt.show()\n",
        "\n",
        "\n",
        "# X, y = load_iris()\n",
        "# print(\"X:\\n\", str(X))\n",
        "# print(\"y:\\n\", str(y))\n",
        "\n",
        "# X, y = load_vowel()\n",
        "# np.set_printoptions(edgeitems=50)\n",
        "# print(\"X:\\n\", str(X))\n",
        "# print(\"y:\\n\", str(y))\n",
        "\n",
        "# X, y = load_real_estate_valuation()\n",
        "# print(\"X:\\n\", str(X))\n",
        "# print(\"y:\\n\", str(y))"
      ],
      "metadata": {
        "id": "9xHJ5HckEIf0"
      },
      "execution_count": 40,
      "outputs": []
    },
    {
      "cell_type": "markdown",
      "metadata": {
        "id": "9vWiTdlbR2Xh"
      },
      "source": [
        "## 1 Avoiding Overfit: Early Stopping and Loss Regularization\n",
        "\n",
        "### 1.1 (10%) No overfit avoidance\n",
        "Train the sklearn [MLP classifier](https://scikit-learn.org/stable/modules/generated/sklearn.neural_network.MLPClassifier.html#sklearn.neural_network.MLPClassifier) on the [Iris Dataset](https://raw.githubusercontent.com/cs472ta/CS472/master/datasets/iris.arff).  Use 3 output nodes (1 per class). Expanding the one output variable into 3 is called one-hot encoding or dummy variable encoding. There are lots of ways to implement this including the Pandas get_dummies method. This experiment is set up to run a little longer to better see the effects of overfit.  Be patient as there are lots of hidden nodes and a high max iterations setting.\n",
        "\n",
        "Use default parameters except the following:\n",
        "- hidden_layer_sizes = [64] - One hidden layer with 64 hidden nodes\n",
        "- activation = 'logistic'\n",
        "- solver = 'sgd'\n",
        "- alpha = 0\n",
        "- batch_size = 1\n",
        "- learning_rate_init = 0.01\n",
        "- shuffle = True\n",
        "- momentum = 0\n",
        "- n_iter_no_change = 50\n",
        "- max_iterations = 1000\n",
        "\n",
        "Use a random 80/20 split of the data.  Run it a few times with different random training/test splits and give average values for\n",
        "- Number of iterations until convergence\n",
        "- Training set accuracy\n",
        "- Test set accuracy\n",
        "For one run observe the softmax probabilities on the test set using clf.predict_proba"
      ]
    },
    {
      "cell_type": "code",
      "execution_count": null,
      "metadata": {
        "id": "rng8obxzfUC_",
        "colab": {
          "base_uri": "https://localhost:8080/"
        },
        "outputId": "c74639a7-0b82-46f3-cb16-f1c5873c29c5"
      },
      "outputs": [
        {
          "output_type": "stream",
          "name": "stdout",
          "text": [
            "Trial # 0\n",
            "   Num iterations:  308\n",
            "   Train set accuracy:  0.9916666666666667\n",
            "   Test set accuracy:  0.9333333333333333\n",
            "Trial # 1\n",
            "   Num iterations:  290\n",
            "   Train set accuracy:  0.975\n",
            "   Test set accuracy:  0.8\n",
            "Trial # 2\n",
            "   Num iterations:  220\n",
            "   Train set accuracy:  0.9833333333333333\n",
            "   Test set accuracy:  0.9666666666666667\n",
            "Trial # 3\n",
            "   Num iterations:  427\n",
            "   Train set accuracy:  0.975\n",
            "   Test set accuracy:  1.0\n",
            "Trial # 4\n",
            "   Num iterations:  288\n",
            "   Train set accuracy:  0.975\n",
            "   Test set accuracy:  0.9666666666666667\n",
            "Softmax probabilities using test data:\n",
            "[6.2 2.9 4.3 1.3]  ->  [1.62643875e-03 9.97558136e-01 2.88435453e-04]  ( [0 1 0]  actual)\n",
            "[7.2 3.2 6.  1.8]  ->  [1.50119008e-05 2.06417207e-01 8.93290727e-01]  ( [0 0 1]  actual)\n",
            "[5.6 3.  4.1 1.3]  ->  [1.28547490e-03 9.93294622e-01 6.00200405e-04]  ( [0 1 0]  actual)\n",
            "[5.1 2.5 3.  1.1]  ->  [2.21051641e-02 9.97756908e-01 4.14091119e-06]  ( [0 1 0]  actual)\n",
            "[4.8 3.  1.4 0.3]  ->  [9.98622225e-01 1.26899545e-02 1.10828733e-11]  ( [1 0 0]  actual)\n",
            "[5.5 4.2 1.4 0.2]  ->  [9.99756616e-01 1.65859996e-03 1.33348085e-12]  ( [1 0 0]  actual)\n",
            "[5.5 3.5 1.3 0.2]  ->  [9.99634113e-01 3.49321013e-03 2.05572108e-12]  ( [1 0 0]  actual)\n",
            "[4.5 2.3 1.3 0.3]  ->  [9.95432189e-01 7.49032243e-02 4.01840677e-11]  ( [1 0 0]  actual)\n",
            "[4.7 3.2 1.3 0.2]  ->  [9.99277890e-01 5.85855865e-03 5.13121457e-12]  ( [1 0 0]  actual)\n",
            "[5.8 4.  1.2 0.2]  ->  [9.99803539e-01 1.69354678e-03 9.44691644e-13]  ( [1 0 0]  actual)\n",
            "[5.9 3.  5.1 1.8]  ->  [1.36019046e-05 1.02777171e-01 9.29739557e-01]  ( [0 0 1]  actual)\n",
            "[5.  3.4 1.6 0.4]  ->  [9.98640963e-01 9.17214213e-03 1.20249753e-11]  ( [1 0 0]  actual)\n",
            "[5.5 2.4 3.7 1. ]  ->  [3.90637494e-03 9.98768217e-01 5.44861337e-05]  ( [0 1 0]  actual)\n",
            "[5.5 2.4 3.8 1.1]  ->  [1.97531413e-03 9.97333347e-01 2.15954170e-04]  ( [0 1 0]  actual)\n",
            "[5.8 2.7 4.1 1. ]  ->  [3.02242707e-03 9.98848720e-01 8.01857298e-05]  ( [0 1 0]  actual)\n",
            "[7.3 2.9 6.3 1.8]  ->  [5.62746870e-06 4.45115006e-02 9.86940300e-01]  ( [0 0 1]  actual)\n",
            "[7.7 3.  6.1 2.3]  ->  [4.52596701e-06 2.65140756e-02 9.92474503e-01]  ( [0 0 1]  actual)\n",
            "[6.7 3.3 5.7 2.1]  ->  [6.58325914e-06 3.67930121e-02 9.84504521e-01]  ( [0 0 1]  actual)\n",
            "[7.7 2.8 6.7 2. ]  ->  [2.40537723e-06 1.08353399e-02 9.97959509e-01]  ( [0 0 1]  actual)\n",
            "[7.4 2.8 6.1 1.9]  ->  [6.84010179e-06 6.20172648e-02 9.79997545e-01]  ( [0 0 1]  actual)\n",
            "[5.8 2.7 3.9 1.2]  ->  [2.92878085e-03 9.98207673e-01 9.97788792e-05]  ( [0 1 0]  actual)\n",
            "[6.3 3.4 5.6 2.4]  ->  [2.65235977e-06 6.38492707e-03 9.98028504e-01]  ( [0 0 1]  actual)\n",
            "[4.8 3.  1.4 0.1]  ->  [9.99018575e-01 1.17479983e-02 6.57789235e-12]  ( [1 0 0]  actual)\n",
            "[5.7 3.  4.2 1.2]  ->  [1.58044547e-03 9.96102743e-01 3.52708921e-04]  ( [0 1 0]  actual)\n",
            "[6.3 3.3 4.7 1.6]  ->  [3.69655273e-04 9.75798934e-01 7.24021276e-03]  ( [0 1 0]  actual)\n",
            "[5.  3.5 1.6 0.6]  ->  [9.98340115e-01 7.62183221e-03 1.78054089e-11]  ( [1 0 0]  actual)\n",
            "[4.8 3.4 1.9 0.2]  ->  [9.97357529e-01 2.60406785e-02 2.34899579e-11]  ( [1 0 0]  actual)\n",
            "[7.6 3.  6.6 2.1]  ->  [2.48157806e-06 1.02945813e-02 9.97908939e-01]  ( [0 0 1]  actual)\n",
            "[5.1 3.5 1.4 0.2]  ->  [9.99479987e-01 4.21828515e-03 3.36965554e-12]  ( [1 0 0]  actual)\n",
            "[5.9 3.2 4.8 1.8]  ->  [4.56530073e-05 4.52934099e-01 4.73920114e-01]  ( [0 1 0]  actual)\n",
            "\n",
            "Final Results:\n",
            "   Avg num iterations:  306.6\n",
            "   Avg train set accuracy:  0.9800000000000001\n",
            "   Avg test set accuracy:  0.9333333333333333\n"
          ]
        }
      ],
      "source": [
        "# Iris with no regularization\n",
        "NUM_TRIALS = 5\n",
        "avg_n_iter = 0.0 # num iterations for convergence\n",
        "avg_train_acc = 0.0 # average train set accuracy\n",
        "avg_test_acc = 0.0 # average test set accuracy\n",
        "\n",
        "X, y = load_iris()\n",
        "\n",
        "for i in range(NUM_TRIALS):\n",
        "  X_train, X_test, y_train, y_test = train_test_split(X, y, test_size=0.2)\n",
        "  clf = MLPClassifier(hidden_layer_sizes = [64],\n",
        "                      activation = 'logistic',\n",
        "                      solver = 'sgd',\n",
        "                      alpha = 0, # setting to 0 turns off loss regularization\n",
        "                      batch_size = 1,\n",
        "                      learning_rate_init = 0.01,\n",
        "                      shuffle = True,\n",
        "                      momentum = 0,\n",
        "                      n_iter_no_change = 50,\n",
        "                      max_iter = 1000)\n",
        "  clf.fit(X_train, y_train)\n",
        "\n",
        "  # results\n",
        "  n_iter = clf.n_iter_\n",
        "  train_acc = clf.score(X_train, y_train)\n",
        "  test_acc = clf.score(X_test, y_test)\n",
        "\n",
        "  print(\"Trial #\", str(i))\n",
        "  print(\"   Num iterations: \", str(clf.n_iter_))\n",
        "  print(\"   Train set accuracy: \", str(train_acc))\n",
        "  print(\"   Test set accuracy: \", str(test_acc))\n",
        "\n",
        "  avg_n_iter += n_iter\n",
        "  avg_train_acc += train_acc\n",
        "  avg_test_acc += test_acc\n",
        "\n",
        "  # print softmax probabilities of last trial (% confidence in each prediction)\n",
        "  if i == NUM_TRIALS - 1:\n",
        "    print(\"Softmax probabilities using test data:\")\n",
        "    probs = clf.predict_proba(X_test)\n",
        "    for i in range(len(X_test)):\n",
        "      print(X_test[i], str(\" -> \"), probs[i], \" (\", y_test[i], \" actual)\")\n",
        "\n",
        "avg_n_iter /= NUM_TRIALS\n",
        "avg_train_acc /= NUM_TRIALS\n",
        "avg_test_acc /= NUM_TRIALS\n",
        "\n",
        "print(\"\\nFinal Results:\")\n",
        "print(\"   Avg num iterations: \", str(avg_n_iter))\n",
        "print(\"   Avg train set accuracy: \", str(avg_train_acc))\n",
        "print(\"   Avg test set accuracy: \", str(avg_test_acc))"
      ]
    },
    {
      "cell_type": "markdown",
      "metadata": {
        "id": "bnfhuRoJfUC_"
      },
      "source": [
        "*Discussion*\n",
        "\n",
        "I used pd.get_dummies to do one hot encoding. Since the Iris dataset has three potential classifications, this created three columns, one cooresponding to each classification. Then I converted the array to numpy, casted the boolean values to integer values, and used them as my y-vector (targets). The terminology used in the spec was that these are indicator variables.\n",
        "\n",
        "Each of the five trials was able to run to convergence. The number of iterations seems realistic, varying from 220 to 427 iterations each. It was interesting to note that on trial #3, the test set actually scored perfectly. I believe this has to do with the fact that it was a lucky division of training and test data. Some inputs are easier to classify than others, and the test inputs in that trial probabily happened to get many of the easier to classify inputs.\n",
        "\n",
        "It is good to note that in all trials except for #3, the train set accuracy is higher than the test set accuracy. This is exactly what I would expect, because the model has already seen the training set and updated weights based on it, so it should be able to fit it well.\n",
        "\n",
        "Looking at the softmax probabilities (predictions) was very insightful. I also printed out the y_test-vector alongside each prediction to see how accurate the probabilities are. Looking through a few, I saw that the probability that was much higher than the other two always cooresponded to the correct classification.\n",
        "\n",
        "One thing that confused me was that the values for each softmax probabilities didn't always add up to 1, though they were typically fairly close. Though it could be because of an error on my part, it could have to do with how the softmax calculates the probabilities or rounding error, but I will look more into it."
      ]
    },
    {
      "cell_type": "markdown",
      "metadata": {
        "id": "_rMJzWkefUDA"
      },
      "source": [
        "### 1.2 (10%) Early Stopping (Validation Set)\n",
        "\n",
        "- Do the same as above but his time with early stopping\n",
        "- Use a validation set taken from the training set for your stopping criteria. Using 10-15% of the training set for a validation set is common. You do this simply by setting the MLPClassifier early_stopping, validation_fraction, and n_iter_no_change parameters.\n",
        "- Run it a few times with different training/test splits and give average values for\n",
        "    - Number of iterations until convergence\n",
        "    - Training set accuracy\n",
        "    - Test set accuracy\n",
        "    - Best validation score (MLPClassifer attribute best_validation_score_)\n",
        "- For one run create a graph with validation set accuracy (*y*-axis) vs epochs (*x*-axis). Hint: MLPClassifer attribute validation_scores_\n",
        "\n",
        "Note: Due to the simplicity of and lack of noise in the iris data set you will not see the accuracy improvements that early stopping or loss regularization can give for more complex noisy datasets.  In particular, early stopping will have lower than expected results because with a very small VS taken from a very small training set there is less data to train on and more variance with the VS score.  Thus, you will probably get lower accuracies for VS than normal training for this less typical case.  But at least you will get practice on using early stopping and loss regularization for future data sets."
      ]
    },
    {
      "cell_type": "code",
      "execution_count": null,
      "metadata": {
        "id": "wM1Yf05IfUDA",
        "colab": {
          "base_uri": "https://localhost:8080/",
          "height": 1000
        },
        "outputId": "35147850-be33-4a3d-bba9-741d35133ae9"
      },
      "outputs": [
        {
          "output_type": "stream",
          "name": "stdout",
          "text": [
            "Trial # 0\n",
            "   Num iterations:  118\n",
            "   Train set accuracy:  0.9666666666666667\n",
            "   Test set accuracy:  0.9333333333333333\n",
            "   Best validation score:  1.0\n",
            "Trial # 1\n",
            "   Num iterations:  142\n",
            "   Train set accuracy:  0.9416666666666667\n",
            "   Test set accuracy:  0.9\n",
            "   Best validation score:  1.0\n",
            "Trial # 2\n",
            "   Num iterations:  60\n",
            "   Train set accuracy:  0.675\n",
            "   Test set accuracy:  0.6333333333333333\n",
            "   Best validation score:  0.8666666666666667\n",
            "Trial # 3\n",
            "   Num iterations:  105\n",
            "   Train set accuracy:  0.9166666666666666\n",
            "   Test set accuracy:  0.8\n",
            "   Best validation score:  1.0\n",
            "Trial # 4\n",
            "   Num iterations:  159\n",
            "   Train set accuracy:  0.9833333333333333\n",
            "   Test set accuracy:  1.0\n",
            "   Best validation score:  1.0\n",
            "Softmax probabilities using test data:\n",
            "[7.1 3.  5.9 2.1]  ->  [8.70487260e-05 1.90530915e-01 9.46450367e-01]  ( [0 0 1]  actual)\n",
            "[5.9 3.  4.2 1.5]  ->  [0.00407327 0.75993589 0.03841338]  ( [0 1 0]  actual)\n",
            "[4.8 3.  1.4 0.3]  ->  [9.94863997e-01 7.39957241e-02 5.23101469e-08]  ( [1 0 0]  actual)\n",
            "[7.7 2.6 6.9 2.3]  ->  [1.63970260e-05 5.49542411e-02 9.96300754e-01]  ( [0 0 1]  actual)\n",
            "[4.4 3.  1.3 0.2]  ->  [9.96083185e-01 5.54747109e-02 4.06200125e-08]  ( [1 0 0]  actual)\n",
            "[5.7 2.9 4.2 1.3]  ->  [0.00422602 0.76559577 0.03648785]  ( [0 1 0]  actual)\n",
            "[6.4 3.2 4.5 1.5]  ->  [0.00444541 0.80989989 0.03022222]  ( [0 1 0]  actual)\n",
            "[6.3 2.3 4.4 1.3]  ->  [0.00195226 0.78246706 0.0950003 ]  ( [0 1 0]  actual)\n",
            "[6.7 3.3 5.7 2.1]  ->  [1.22467089e-04 2.11635438e-01 9.15042873e-01]  ( [0 0 1]  actual)\n",
            "[5.4 3.9 1.3 0.4]  ->  [9.99070674e-01 2.11849850e-02 7.38466759e-09]  ( [1 0 0]  actual)\n",
            "[5.6 2.7 4.2 1.3]  ->  [0.00270394 0.72151062 0.07109666]  ( [0 1 0]  actual)\n",
            "[5.5 4.2 1.4 0.2]  ->  [9.99388962e-01 1.71134464e-02 4.39943486e-09]  ( [1 0 0]  actual)\n",
            "[7.  3.2 4.7 1.4]  ->  [0.00619553 0.88066623 0.01566933]  ( [0 1 0]  actual)\n",
            "[4.9 3.1 1.5 0.1]  ->  [9.96080345e-01 7.12248719e-02 3.60866653e-08]  ( [1 0 0]  actual)\n",
            "[6.1 2.8 4.7 1.2]  ->  [0.00190781 0.7411277  0.1042676 ]  ( [0 1 0]  actual)\n",
            "[5.5 2.3 4.  1.3]  ->  [0.00213937 0.70755709 0.09891674]  ( [0 1 0]  actual)\n",
            "[6.9 3.1 4.9 1.5]  ->  [0.00245641 0.80463183 0.06544617]  ( [0 1 0]  actual)\n",
            "[5.  3.  1.6 0.2]  ->  [9.92840544e-01 1.07149136e-01 7.10907235e-08]  ( [1 0 0]  actual)\n",
            "[6.3 2.5 4.9 1.5]  ->  [5.05527014e-04 5.29593036e-01 4.96376399e-01]  ( [0 1 0]  actual)\n",
            "[6.3 3.3 4.7 1.6]  ->  [0.00225943 0.71884938 0.08638042]  ( [0 1 0]  actual)\n",
            "[5.2 4.1 1.5 0.1]  ->  [9.99188124e-01 1.97914201e-02 6.24407389e-09]  ( [1 0 0]  actual)\n",
            "[6.5 3.  5.8 2.2]  ->  [5.08267620e-05 1.09631115e-01 9.79159147e-01]  ( [0 0 1]  actual)\n",
            "[5.8 2.7 3.9 1.2]  ->  [0.00945679 0.84725148 0.01026399]  ( [0 1 0]  actual)\n",
            "[4.9 2.5 4.5 1.7]  ->  [1.78696531e-04 2.02730913e-01 8.78119754e-01]  ( [0 0 1]  actual)\n",
            "[5.6 3.  4.1 1.3]  ->  [0.00587343 0.7728609  0.02318904]  ( [0 1 0]  actual)\n",
            "[6.9 3.1 5.4 2.1]  ->  [2.24658807e-04 3.39173365e-01 7.90214566e-01]  ( [0 0 1]  actual)\n",
            "[7.9 3.8 6.4 2. ]  ->  [2.39448607e-04 3.98299968e-01 7.49835635e-01]  ( [0 0 1]  actual)\n",
            "[5.6 2.8 4.9 2. ]  ->  [1.32425867e-04 1.84641194e-01 9.15754180e-01]  ( [0 0 1]  actual)\n",
            "[5.8 2.8 5.1 2.4]  ->  [5.65848936e-05 1.01061966e-01 9.77524615e-01]  ( [0 0 1]  actual)\n",
            "[5.1 3.8 1.5 0.3]  ->  [9.98383818e-01 2.86592507e-02 1.43296616e-08]  ( [1 0 0]  actual)\n"
          ]
        },
        {
          "output_type": "display_data",
          "data": {
            "text/plain": [
              "<Figure size 640x480 with 1 Axes>"
            ],
            "image/png": "[encoded data removed]"
          },
          "metadata": {}
        },
        {
          "output_type": "stream",
          "name": "stdout",
          "text": [
            "\n",
            "Final Results:\n",
            "   Avg num iterations:  116.8\n",
            "   Avg train set accuracy:  0.8966666666666665\n",
            "   Avg test set accuracy:  0.8533333333333333\n",
            "   Avg best validation score:  0.9733333333333334\n"
          ]
        }
      ],
      "source": [
        "#Iris with early stopping and validation scores graph\n",
        "# Early stopping - specify the 3 parameters:\n",
        "# (1) Set early stopping = True\n",
        "# (2) Select % of training data to be validation set (10%-20% is normal\n",
        "# (3) Select max # iterations no change\n",
        "NUM_TRIALS = 5\n",
        "avg_n_iter = 0.0 # num iterations for convergence\n",
        "avg_train_acc = 0.0\n",
        "avg_test_acc = 0.0\n",
        "avg_best_validation_score = 0.0\n",
        "\n",
        "X, y = load_iris()\n",
        "\n",
        "for i in range(NUM_TRIALS):\n",
        "  X_train, X_test, y_train, y_test = train_test_split(X, y, test_size=0.2)\n",
        "  clf = MLPClassifier(hidden_layer_sizes = [64],\n",
        "                      activation = 'logistic',\n",
        "                      solver = 'sgd',\n",
        "                      alpha = 0,\n",
        "                      batch_size = 1,\n",
        "                      learning_rate_init = 0.01,\n",
        "                      shuffle = True,\n",
        "                      momentum = 0,\n",
        "                      n_iter_no_change = 50, # used for early stopping\n",
        "                      max_iter = 1000,\n",
        "                      early_stopping = True, # new\n",
        "                      validation_fraction = 0.12) # new\n",
        "  clf.fit(X_train, y_train)\n",
        "\n",
        "  # results\n",
        "  n_iter = clf.n_iter_\n",
        "  train_acc = clf.score(X_train, y_train)\n",
        "  test_acc = clf.score(X_test, y_test)\n",
        "  best_validation_score = clf.best_validation_score_ # new\n",
        "\n",
        "  print(\"Trial #\", str(i))\n",
        "  print(\"   Num iterations: \", str(clf.n_iter_))\n",
        "  print(\"   Train set accuracy: \", str(train_acc))\n",
        "  print(\"   Test set accuracy: \", str(test_acc))\n",
        "  print(\"   Best validation score: \", str(best_validation_score)) # new\n",
        "\n",
        "  avg_n_iter += n_iter\n",
        "  avg_train_acc += train_acc\n",
        "  avg_test_acc += test_acc\n",
        "  avg_best_validation_score += best_validation_score\n",
        "\n",
        "  if i == NUM_TRIALS - 1:\n",
        "    # print softmax probabilities\n",
        "    print(\"Softmax probabilities using test data:\")\n",
        "    probs = clf.predict_proba(X_test)\n",
        "    for i in range(len(X_test)):\n",
        "      print(X_test[i], str(\" -> \"), probs[i], \" (\", y_test[i], \" actual)\")\n",
        "\n",
        "    # graph validation set accuracy vs epochs\n",
        "    plot_by_epochs(clf.validation_scores_, \"Validation Scores\")\n",
        "\n",
        "\n",
        "avg_n_iter /= NUM_TRIALS\n",
        "avg_train_acc /= NUM_TRIALS\n",
        "avg_test_acc /= NUM_TRIALS\n",
        "avg_best_validation_score /= NUM_TRIALS\n",
        "\n",
        "print(\"\\nFinal Results:\")\n",
        "print(\"   Avg num iterations: \", str(avg_n_iter))\n",
        "print(\"   Avg train set accuracy: \", str(avg_train_acc))\n",
        "print(\"   Avg test set accuracy: \", str(avg_test_acc))\n",
        "print(\"   Avg best validation score: \", str(avg_best_validation_score))"
      ]
    },
    {
      "cell_type": "markdown",
      "metadata": {
        "id": "ZNMATZqjtlxs"
      },
      "source": [
        "*Discussion of average values above and the validation score graph*  \n",
        "\n",
        "Using early stopping yielded results that the note said would appear. For example, the average training and test set accuracies were actually lower than they were when not using early stopping. Without early stopping they were 98% and 93%, respectively, while with early stopping they were 89% and 85%, respectively. This is due to the fact that the Iris dataset is pretty small, so much of the little amount of data it taken up for the testing and validation sets.\n",
        "\n",
        "It is also important to note that the average number of iterations went down from 306 without early stopping to 116 with early stopping. This means that compute time was almost a third, and early stopping did take effect.\n",
        "\n",
        "It is interesting to note that the best validation score was 1.0 in 4 of the 5 trials. I think this is probably because, again, the data sets were quite small so it lucked out that way. Also, the validation set was taken from only a fraction of the training set, so that chance of getting lucky and easy to classify inputs in it are higher.\n",
        "\n",
        "Looking at the graph, it is important to not that on the last trial (the one used to make the graph), there were 159 iterations, so the graph shows the validation score at the end of each iteration. In the first 15 iteratoins or so, the score shoots up quickly, and I wasn't surprised at that because it is the principle of diminishing returns. It's interesting that between epochs 15 and 60, there really wasn't much improvement, but at epoch 60, it must have found its way out of a minima and instantly improved after which the improvements were small. N_iter_no_change was set to 50 so I the last period from about 110 to 160 was the inteval of 50 epochs where no significant improvement was seen so it stopped there at round 159."
      ]
    },
    {
      "cell_type": "markdown",
      "metadata": {
        "id": "wlqfwQtofUDA"
      },
      "source": [
        "### 1.3 (10%) Loss Regularization\n",
        "\n",
        "- Do the same as in 1.1 but his time with loss regularization (Do not do early stopping)\n",
        "- Run it with different L2 regularization parameter values (alpha).  The default for alpha is .0001.  Try other values such as .1, .01, .001, .00001, etc. Make a table with each row including:\n",
        "    - The regularization parameter value\n",
        "    - Number of iterations until convergence\n",
        "    - Training set accuracy\n",
        "    - Test set accuracy\n",
        "    - Best loss value (MLPClassifer attribute best_loss_)\n",
        "- Which regularization value gave you the best results?\n",
        "- For your best regularization value do one run and create a graph with loss (*y*-axis) vs epochs (*x*-axis) for the training set (Hint: MLPClassifer attribute loss_curve_)"
      ]
    },
    {
      "cell_type": "code",
      "execution_count": null,
      "metadata": {
        "id": "SUcRyXHtfUDA",
        "colab": {
          "base_uri": "https://localhost:8080/"
        },
        "outputId": "10d134df-a85b-45ba-e850-a94c6dd7d423"
      },
      "outputs": [
        {
          "output_type": "stream",
          "name": "stdout",
          "text": [
            "  Trial    Alpha    Num Iters for Conv    Train Acc    Test Acc    Best Loss Score\n",
            "-------  -------  --------------------  -----------  ----------  -----------------\n",
            "      0   0.0001                   266     0.991667    0.933333           0.13784\n",
            "      1   0.001                    234     0.983333    0.966667           0.24723\n",
            "      2   0.01                     346     0.966667    0.966667           0.800134\n",
            "      3   0.1                      137     0.616667    0.733333           1.64376\n"
          ]
        }
      ],
      "source": [
        "#Iris with Loss Regularization\n",
        "\n",
        "# Regularization Value (% weight decay at each iteration)\n",
        "# higher alpha -> more generalization, higher chance of underfit\n",
        "# lower alpha -> less generalization, higher change of overfit\n",
        "alpha_values = [0.0001, 0.001, 0.01, 0.1]\n",
        "\n",
        "X, y = load_iris()\n",
        "\n",
        "table = []\n",
        "for i, alpha in enumerate(alpha_values):\n",
        "  X_train, X_test, y_train, y_test = train_test_split(X, y, test_size=0.2)\n",
        "  clf = MLPClassifier(hidden_layer_sizes = [64],\n",
        "                      activation = 'logistic',\n",
        "                      solver = 'sgd',\n",
        "                      alpha = alpha, # loss regularization alpha value\n",
        "                      batch_size = 1,\n",
        "                      learning_rate_init = 0.01,\n",
        "                      shuffle = True,\n",
        "                      momentum = 0,\n",
        "                      n_iter_no_change = 50,\n",
        "                      max_iter = 1000)\n",
        "  clf.fit(X_train, y_train)\n",
        "\n",
        "  # results\n",
        "  n_iter = clf.n_iter_\n",
        "  train_acc = clf.score(X_train, y_train)\n",
        "  test_acc = clf.score(X_test, y_test)\n",
        "  best_loss = clf.best_loss_ # lowest loss value achieved (lower is better)\n",
        "\n",
        "  table.append([i, alpha, n_iter, train_acc, test_acc, best_loss])\n",
        "\n",
        "headers = [\"Trial\", \"Alpha\", \"Num Iters for Conv\", \"Train Acc\", \"Test Acc\",\n",
        "           \"Best Loss Score\"]\n",
        "print(tabulate(table, headers=headers))"
      ]
    },
    {
      "cell_type": "code",
      "source": [
        "best_alpha = 0.001\n",
        "\n",
        "X, y = load_iris()\n",
        "X_train, X_test, y_train, y_test = train_test_split(X, y, test_size=0.2)\n",
        "\n",
        "clf = MLPClassifier(hidden_layer_sizes = [64],\n",
        "                    activation = 'logistic',\n",
        "                    solver = 'sgd',\n",
        "                    alpha = best_alpha, # loss regularization alpha value\n",
        "                    batch_size = 1,\n",
        "                    learning_rate_init = 0.01,\n",
        "                    shuffle = True,\n",
        "                    momentum = 0,\n",
        "                    n_iter_no_change = 50,\n",
        "                    max_iter = 1000)\n",
        "clf.fit(X_train, y_train)\n",
        "\n",
        "# graph regularization loss vs epochs\n",
        "plot_by_epochs(clf.loss_curve_, \"Regularization Loss\")\n"
      ],
      "metadata": {
        "colab": {
          "base_uri": "https://localhost:8080/",
          "height": 472
        },
        "id": "iPnZ6KS0Gz4z",
        "outputId": "a0845c6a-ecb1-406f-a314-368c16e1b59e"
      },
      "execution_count": null,
      "outputs": [
        {
          "output_type": "display_data",
          "data": {
            "text/plain": [
              "<Figure size 640x480 with 1 Axes>"
            ],
            "image/png": "[encoded data removed]"
          },
          "metadata": {}
        }
      ]
    },
    {
      "cell_type": "markdown",
      "metadata": {
        "id": "O_p-tYrpfUDB"
      },
      "source": [
        "*Discussion and comparison between no regularization, early stopping and loss regularization*\n",
        "\n",
        "## Results from Loss Regularization\n",
        "\n",
        "I ran the MLPClassifier using alpha values (regularization values) from 0.0001 up to 0.1 by multiples of 10. Smaller alpha values mean that loss regularization will cause less generalization, while larger values lead to more generalization. With less generalization, there is a higher chance of overfit, while with more, there is a higher chance of underfit.\n",
        "\n",
        "I noticed that with a small alpha value (0.0001), the training set performed very well (99% accuracy), and the test set scored 93% accuracy. This is becasue with such a small alpha value, there is almost no generalization, so the model is very well fit to the test data, and isn't generalized well to fit the training data. Moving down the trials, as we increased the alpha value, the training accuracy slowly got worse, while the test accuracy got better. This is for the same reason explained above.\n",
        "\n",
        "In fact, look at trail 3 (alpha of 0.1). With such a high alpha, the generalization is very high, and the test set accuracy is actually higher than the training set accuracy. While this wouldn't necessarily happen every time (i.e. if we were to run with alpha of 0.1 1000 times and average the scores), and likely has to do with the fact that the test set isn't very big, it demonstrates that a higher alpha is leading to more generalization.\n",
        "\n",
        "The best loss score is the lowest loss value achieved. The trend here is that as alpha increases, the best loss value also increases. This means that with more generalization, it is more difficult to get low loss values in training. I don't think that this is necessarily an issue, because the point of generalization is to not simply fit well for the training data, but also for the test and real world data. Again, I think that either extreme (highest/lowest best loss score) is typically not actually the best, and it is somewhere in between.\n",
        "\n",
        "From these four trials, it appears that the best alpha was 0.001. While 0.0001 had a higher training set accuracy, that really isn't very relevant becuase it simply overfit the data, and training accuracy is more telling of how the model will perform on real world data. With 0.001, the test accuracy was the same as that of 0.01, but the training accuracy was higher, so I gave the win to 0.001. Of course, if I had done many trials for each alpha value and averaged the scores, the data would be more accurate and I would have a better idea of which for sure is better.\n",
        "\n",
        "Looking at the graph of regularization loss for the best alpha, it is interesting to see how similar it is to an exponential decay function, though the loss settles around 0.3 rather than at 0 ina regular decay function. From epochs 0 to about 15, there is very strong improvement, from epochs 15 to about 70, there is consistent improvement, and from epochs 70 to 300, there is still improvement, but the improvement decreases as time goes on and after epoch 250 or so, there really isn't much or any noticable improvement. N_iter_no_change is set to 50, so that checks out.\n",
        "\n",
        "## Comparison of (1) No Regularization, (2) Early Stopping with Validation Set, and (3) Early Stopping with Loss Regularizaiton\n",
        "\n",
        "Loss regularization outperformed the other two methods by quite a bit. Its test accuracy (which is the more important feature) was 96.67% which is pretty good. No regularization achieved 93.33% test accuracy, while early stopping with validation only scored 85.33% test accuracy. On training set accuracy, loss regularization also scored slightly higher than no regularization, and significantly higher than early stopping with validation, though this number doesn't tell much on how well it will perform on real world data. One thing to not is that with loss regularization, I only did 1 trial with the best regularizaiton value, so increasing that number could increase accuracy. Additionally, the test set was quite small, so early stopping with the validation set particularly took a hit, because the validation set was pretty small. It the data sets were higher, and I had done more trials, these results could have varied. From the limited trials I've done here however, it appears that using loss regularization was the best way to generalize the model to the correct amount and achieve the highest test set accuracy."
      ]
    },
    {
      "cell_type": "markdown",
      "metadata": {
        "id": "mOteTlV6S0bq"
      },
      "source": [
        "## 2 Hyperparameters\n",
        "In this section we use the [Vowel Dataset](https://raw.githubusercontent.com/cs472ta/CS472/master/datasets/vowel.arff) to consider the hyperparameters of learning rate, number of hidden nodes, and momentum.\n",
        "\n",
        "### 2.1 (10%) Vowel Dataset Questions\n",
        "- Give the baseline accuracies for the Iris and Vowel datasets. Baseline accuracy is what you would get if the model just outputs the majority class of the data set (i.e. the output value which occurs most often). These two data sets are not great example for this as they have an equal amount of each class, which is not typical.\n",
        "- Discuss why the vowel data set will probably have lower accuracy than Iris.\n",
        "- Consider which of the vowel dataset's input features you should not use in training and discuss why."
      ]
    },
    {
      "cell_type": "markdown",
      "metadata": {
        "id": "qmq9GSbJS8k2"
      },
      "source": [
        "*Discuss these items here*  \n",
        "\n",
        "## Baseline Accuracies\n",
        "\n",
        "For the Iris dataset, there are three possible classifications (flowers) and since there are an equal number of each flower in the dataset, the baseline accuracy is simply `[0.33, 0.33, 0.33]` because it is split between the three.\n",
        "\n",
        "For the Vowel dataset, there are 11 possible classifications (sounds) and since there are an equal number of each classification in the dataset, the baseline accuracy is simply `[0.09, 0.09, 0.09, 0.09, 0.09, 0.09, 0.09, 0.09, 0.09, 0.09, 0.09]` because it is split between the three.\n",
        "\n",
        "## Why the Vowel Data Set Will Have Lower Accuracy\n",
        "\n",
        "The vowell dataset will have lower accuracy because there are more possible classifications. If the model is only as good as a random guess, its accuracy would be about 0.0909 becasue there is a lower chance of guessing the right classification. There are more ways it could guess wrong, and the space is larger.\n",
        "\n",
        "## Which Input Features to Not Include and Why\n",
        "\n",
        "Dropping: `Train or Test`, and `Speaker Number`\n",
        "\n",
        "There are a couple of featuers I decided to drop. First was the `Train or Test` column. This is completely irrelevant to being able to determine the classification. I will rather derive the train and test sets from a random split. I also decided to drop the `Speaker Number` column. While this may help improve accuracy with a test set derived from this data, it won't help in the future if we want other individuals that didn't help with testing to be able to use the model to make classifications with their voices.\n",
        "\n",
        "I am leaving `Gender` category because it will male and female voices are different, so this will help the model be able to understand distinctions between genders. I will also leave all the other featuers. Right now, I no nothing from them, becasue they are simply numerical values cooresponding to certain aspects of sounds, but I don't know anything about them from a static analysis. After training the model, I will likely know more about which features are more important and know enough to be able to drop some if needed."
      ]
    },
    {
      "cell_type": "markdown",
      "metadata": {
        "id": "SIRG42TgSR4x"
      },
      "source": [
        "### 2.2 (10%) Learning Rate\n",
        "Load the [Vowel Dataset](https://raw.githubusercontent.com/cs472ta/CS472/master/datasets/vowel.arff). Drop any features which you explained above as being inappropriate for training.\n",
        "\n",
        "Hints: Consider the Pandas drop method for dropping columns. When you want to transform features in your data set there are lots of approaches. You could edit the arff file directly, or make the transforms in your code.  The Pandas replace method is nice for that. For example, if you wanted to change the vowel data set gender feature in a Pandas dataframe to 0/1 you could do the following:\n",
        "\n",
        "vowel_df['Sex'] = vowel_df['Sex'].str.decode('utf-8')   //Changes the byte code data into a normal string, b'Male' becomes \"Male\"\\\n",
        "vowel_df = vowel_df.replace('Male', 0)\\\n",
        "vowel_df = vowel_df.replace('Female', 1)\n",
        "\n",
        "- Use one layer of hidden nodes with the number of hidden nodes being twice the number of inputs.\n",
        "- Use a random 75/25 split of the data for the training/test set.\n",
        "- Do not use early stopping.\n",
        "- Try at least 5 different learning rates (LR) from very small (e.g. .001) to pretty big (e.g. 10). Each LR will require a different number of epochs to learn. LR effects both accuracy and time required for learning.\n",
        "- Create a table which includes a row for each LR.  Your table columns should be LR, # epochs to learn the model, final training set accuracy and final test set accuracy.  As learning rates get smaller, it usually takes more epochs to learn. If your model is stopping learning too soon (converging) by hitting max_iterations (in this case and in experiments below), then you need to increase your max_iterations parameter in order to give your model a fair chance.  To keep things faster, you don't need to increase max_iter past 1000 if you don't want to, but point out when more iterations may have given improvement.\n",
        "\n",
        "In real testing one averages the results of multiple trials per LR (and other parameters) with different intitial conditions (training/test split, initial weights, etc.). That gives more accurate results but is not required for this lab."
      ]
    },
    {
      "cell_type": "code",
      "execution_count": null,
      "metadata": {
        "id": "KBGUn43ASiXW",
        "colab": {
          "base_uri": "https://localhost:8080/"
        },
        "outputId": "3ba82baa-1943-428a-9d31-ca637332a09d"
      },
      "outputs": [
        {
          "output_type": "stream",
          "name": "stderr",
          "text": [
            "/usr/local/lib/python3.10/dist-packages/sklearn/neural_network/_multilayer_perceptron.py:690: ConvergenceWarning: Stochastic Optimizer: Maximum iterations (1000) reached and the optimization hasn't converged yet.\n",
            "  warnings.warn(\n",
            "/usr/local/lib/python3.10/dist-packages/sklearn/neural_network/_multilayer_perceptron.py:690: ConvergenceWarning: Stochastic Optimizer: Maximum iterations (1000) reached and the optimization hasn't converged yet.\n",
            "  warnings.warn(\n"
          ]
        },
        {
          "output_type": "stream",
          "name": "stdout",
          "text": [
            "  Trial    Learning Rate    Num Epochs for Conv    Train Acc    Test Acc\n",
            "-------  ---------------  ---------------------  -----------  ----------\n",
            "      0            0.001                   1000    0.513477    0.483871\n",
            "      1            0.01                    1000    0.981132    0.846774\n",
            "      2            0.1                      731    0.997305    0.854839\n",
            "      3            1                        212    0.540431    0.532258\n",
            "      4           10                        108    0.0916442   0.0887097\n"
          ]
        }
      ],
      "source": [
        "# Train with different learning rates\n",
        "learning_rates = [0.001, 0.01, 0.1, 1.0, 10.0]\n",
        "\n",
        "X, y = load_vowel()\n",
        "\n",
        "table = []\n",
        "for i, learning_rate in enumerate(learning_rates):\n",
        "  X_train, X_test, y_train, y_test = train_test_split(X, y, test_size=0.25)\n",
        "  clf = MLPClassifier(hidden_layer_sizes = [22], # 11 input features x2 = 22\n",
        "                      activation = 'logistic',\n",
        "                      solver = 'sgd',\n",
        "                      alpha = 0,\n",
        "                      batch_size = 1,\n",
        "                      learning_rate_init = learning_rate,\n",
        "                      shuffle = True,\n",
        "                      momentum = 0,\n",
        "                      n_iter_no_change = 50,\n",
        "                      max_iter = 1000)\n",
        "  clf.fit(X_train, y_train)\n",
        "\n",
        "  # results\n",
        "  n_iter = clf.n_iter_\n",
        "  train_acc = clf.score(X_train, y_train)\n",
        "  test_acc = clf.score(X_test, y_test)\n",
        "\n",
        "  table.append([i, learning_rate, n_iter, train_acc, test_acc])\n",
        "\n",
        "headers = [\"Trial\", \"Learning Rate\", \"Num Epochs for Conv\", \"Train Acc\",\n",
        "           \"Test Acc\",]\n",
        "print(tabulate(table, headers=headers))"
      ]
    },
    {
      "cell_type": "markdown",
      "metadata": {
        "id": "xpjJBIwktlxt"
      },
      "source": [
        "*Discuss your table and the effect of different learning rates on both training time and accuracy*\n",
        "\n",
        "The learning rate is how fast the MLP updates weights. In general, updating weights in large increments may be dangerous because it can cause the algorithm to jump over a minima rather than settling into it. Having smaller updataes is often better because it allows the algorithm to arrive right in a local minima. The downside, however, is that it can take a long time to train because updates are so small. You can see this when looking at trials 0 and 1 with the smaller learning rates. Since I set my max_iter to 1000, both of these trials were unable to finish in time. You can tell that for learning rate `0.001`, training wasn't near done yet, becasue accuracy for train and test sets were both around 50%. Note that this isn't awefull becasuethere are 11 possible datasets, so the 50% is much better than the baseline 9.09% accuracy.\n",
        "\n",
        "For learning rate `0.01`, it appears that even though it still reached that maximum number of epochs, training was much done becasue the train accuracy was less than 2% off of 100%, and the test accuracy was almost as high as the best trial. The best results were seen with the learning rate `0.1`, where it performed almost perfectly on the train data and test accuracy was 85.5% which is better than any of the others.\n",
        "\n",
        "It is interesting to look at trials 3 and 4 with the larger learning rates, because we can see the effect of the learning rate being too big. In trial 3 with a learning rate of `1`, train and test accuracy were both only about 54% (remember that this is still much better than a random guess becasue there are 11 classification options). I am pretty sure the drop here has to do with the fact that it is jumping over the minima and not able to settle down in it well. Looking at trial 4 with a learning rate of `10`, the accuracy is no better than average. It is clear that the learning rate was way too big, and the weight updates were so large that they jumper right over the optimal weights.\n",
        "\n",
        "This data is a great example that it is better in general to have a smaller learning rate, but we have to be cogniscent about how much computing resources we have, because if the learning rate is too small, it will take too long to train. Its also important to note that in this trial, the learning rate was kept constant and never updated. A lot of time could have been saved by using a method such as invscaling or adaptive to adjust the learning rate as you learn. Also note that here, I split the training and testing data differently with each trial. I should have left them the same to give more consistent circumstances for each trial. I changed this in 2.3."
      ]
    },
    {
      "cell_type": "markdown",
      "metadata": {
        "id": "A-nUu5Txtlxt"
      },
      "source": [
        "### 2.3 (10%) Number of Hidden Nodes\n",
        "\n",
        "Using the best LR you discovered, experiment with different numbers of hidden nodes.\n",
        "\n",
        "- Start with 1 hidden node, then 2, and then double them for each test until you get no more improvement in accuracy.\n",
        "- Create a table just like above, except with # of hidden nodes rather than LR.\n",
        "\n",
        "In general, whenever you are testing a parameter such as # of hidden nodes, keep testing values until no more improvement is found. For example, if 20 hidden nodes did better than 10, you would not stop at 20, but would try 40, etc., until you no longer got improvement."
      ]
    },
    {
      "cell_type": "code",
      "execution_count": null,
      "metadata": {
        "id": "uLqeA1iutlxt",
        "colab": {
          "base_uri": "https://localhost:8080/"
        },
        "outputId": "dca8c060-6f8c-4dc8-e411-9d60de078af4"
      },
      "outputs": [
        {
          "output_type": "stream",
          "name": "stdout",
          "text": [
            "  Trial    Num Nodes    Num Epochs for Conv    Train Acc    Test Acc\n",
            "-------  -----------  ---------------------  -----------  ----------\n",
            "      0            1                    270     0           0\n",
            "      1            2                    225     0.138814    0.169355\n",
            "      2            4                    185     0.261456    0.258065\n",
            "      3            8                    367     0.668464    0.629032\n",
            "      4           16                    469     0.963612    0.766129\n",
            "      5           32                    754     1           0.907258\n",
            "      6           64                    464     1           0.927419\n",
            "      7          128                    476     1           0.907258\n",
            "      8          256                    508     1           0.927419\n",
            "      9          512                    525     1           0.919355\n"
          ]
        }
      ],
      "source": [
        "# Train with different numbers of hidden nodes\n",
        "best_learning_rate = 0.1 # determined in 2.2\n",
        "num_nodes_trials = [1, 2, 4, 8, 16, 32, 64, 128, 256, 512]\n",
        "\n",
        "X, y = load_vowel()\n",
        "X_train, X_test, y_train, y_test = train_test_split(X, y, test_size=0.25)\n",
        "\n",
        "table = []\n",
        "for i, num_nodes in enumerate(num_nodes_trials):\n",
        "  clf = MLPClassifier(hidden_layer_sizes = [num_nodes], # 11 input features x2 = 22\n",
        "                      activation = 'logistic',\n",
        "                      solver = 'sgd',\n",
        "                      alpha = 0,\n",
        "                      batch_size = 1,\n",
        "                      learning_rate_init = best_learning_rate,\n",
        "                      shuffle = True,\n",
        "                      momentum = 0,\n",
        "                      n_iter_no_change = 50,\n",
        "                      max_iter = 1000)\n",
        "  clf.fit(X_train, y_train)\n",
        "\n",
        "  # results\n",
        "  n_iter = clf.n_iter_\n",
        "  train_acc = clf.score(X_train, y_train)\n",
        "  test_acc = clf.score(X_test, y_test)\n",
        "\n",
        "  table.append([i, num_nodes, n_iter, train_acc, test_acc])\n",
        "\n",
        "headers = [\"Trial\", \"Num Nodes\", \"Num Epochs for Conv\", \"Train Acc\",\n",
        "           \"Test Acc\",]\n",
        "print(tabulate(table, headers=headers))"
      ]
    },
    {
      "cell_type": "markdown",
      "metadata": {
        "id": "CLliSMtXtlxt"
      },
      "source": [
        "*Discuss your table and the effect of different numbers of hidden nodes on both training time and accuracy*\n",
        "\n",
        "I'm not seeing a huge coorelation between number of nodes and the number of epochs for convergence. However, it seems to more or less increase until there are 32 nodes where is maxes out, and then decreases some from there. However,I think the lack of a better patter could have to do with the fact that I only did one trial at each number of nodes, and only used one dataset without modifying the training and test divisions between iterations. Increasing those may show a more consistent pattern.\n",
        "\n",
        "It's interesting to note that the training set accuracy steadily increases until at 32 nodes where it and all trials after it achieved perfect accuracy for the training set. This doesn't tell much, because it could simply be due to overfit. Looking at the test accuracy, the best score was with `64` nodes. I doubled it three times after that, and while with 256 nodes, it tied for the same accuracy, there was no more improvement. At 92.47% accuracy, there is room for improvement, but considering there are 11 classifications, that is pretty good accuracy, and is better than what I was able to achieve with only fine tuning the learning rate."
      ]
    },
    {
      "cell_type": "markdown",
      "metadata": {
        "id": "v72ryeHXtlxu"
      },
      "source": [
        "### 2.4 (10%) Momentum\n",
        "\n",
        "Try at least 5 different momentum terms between 0 and just less than 1 using the best number of hidden nodes and LR from your earlier experiments.\n",
        "\n",
        "- Create a table just like above, except with momentum values rather than LR or number of hidden nodes."
      ]
    },
    {
      "cell_type": "code",
      "execution_count": null,
      "metadata": {
        "id": "yiEBTL6Vtlxu",
        "colab": {
          "base_uri": "https://localhost:8080/"
        },
        "outputId": "d93e0def-1a63-436d-d520-9ec53e204c32"
      },
      "outputs": [
        {
          "output_type": "stream",
          "name": "stdout",
          "text": [
            "  Trial    Momentum    Num Epochs for Conv    Train Acc    Test Acc\n",
            "-------  ----------  ---------------------  -----------  ----------\n",
            "      0        0                       512    1            0.931452\n",
            "      1        0.25                    417    1            0.939516\n",
            "      2        0.5                     322    1            0.951613\n",
            "      3        0.75                    180    0.715633     0.629032\n",
            "      4        0.99                    142    0.0876011    0.100806\n"
          ]
        }
      ],
      "source": [
        "# Train with different momentum values\n",
        "best_learning_rate = 0.1 # from 2.2\n",
        "best_num_hidden_nodes = 64 # from 2.3\n",
        "\n",
        "momentums = [0, 0.25, 0.5, 0.75, 0.99]\n",
        "\n",
        "X, y = load_vowel()\n",
        "X_train, X_test, y_train, y_test = train_test_split(X, y, test_size=0.25)\n",
        "\n",
        "table = []\n",
        "for i, momentum in enumerate(momentums):\n",
        "  clf = MLPClassifier(hidden_layer_sizes = [best_num_hidden_nodes],\n",
        "                      activation = 'logistic',\n",
        "                      solver = 'sgd',\n",
        "                      alpha = 0,\n",
        "                      batch_size = 1,\n",
        "                      learning_rate_init = best_learning_rate,\n",
        "                      shuffle = True,\n",
        "                      momentum = momentum,\n",
        "                      n_iter_no_change = 50,\n",
        "                      max_iter = 1000)\n",
        "  clf.fit(X_train, y_train)\n",
        "\n",
        "  # results\n",
        "  n_iter = clf.n_iter_\n",
        "  train_acc = clf.score(X_train, y_train)\n",
        "  test_acc = clf.score(X_test, y_test)\n",
        "\n",
        "  table.append([i, momentum, n_iter, train_acc, test_acc])\n",
        "\n",
        "headers = [\"Trial\", \"Momentum\", \"Num Epochs for Conv\", \"Train Acc\",\n",
        "           \"Test Acc\",]\n",
        "print(tabulate(table, headers=headers))\n"
      ]
    },
    {
      "cell_type": "markdown",
      "metadata": {
        "id": "LqidhekCtlxu"
      },
      "source": [
        "*Discuss your table and the effect of momentum on both training time and accuracy*\n",
        "\n",
        "Momentum is a hyperparameter that can lead help training occur faster. When changes repeatedly occur in the same direction, momentum speeds up how fast the weights update. The possible values for momentum range from 0 to just under 1. At zero, there is simply no momentum effect.\n",
        "\n",
        "Looking atthe results, I noticed that increasing momentum always decreased the number of epochs for convergence. This is what I would expect, because momentum simply helps you move quicker if you are going in the right direction. From momentum being 0 to 0.99, the number of epochs was cut to less than a third.\n",
        "\n",
        "Looking at accuracies, there was a sweet spot. For training set accuracy, it was perfect until momoentum got too big. For 0.75 and especially 0.99, accuracy decreased significantly. I think this is because you end up jumping too far over the best minima.\n",
        "\n",
        "For the test set accuracy, interestingly, the sweet spot was with a momentum of 0.5. Going higher than that led to significany losses in accuracy, while going lower only lost a maximum of about 2%. This demonstrates that it is safer to air on a lower momentum value, though of course, these trials are limited and using larger data sets and more trials would give more insight here."
      ]
    },
    {
      "cell_type": "markdown",
      "metadata": {
        "id": "7hHxNgUCtlxv"
      },
      "source": [
        "### 2.5 (10%) Automatic Hyperparameter Discovery\n",
        "Using the vowel dataset, automatically adjust the LR, # of hidden nodes, and momentum using [grid and random search](https://scikit-learn.org/stable/modules/grid_search.html)\n",
        "- For grid search include the most promising hyperparameter values you used in your experiments above.  You may add others also.\n",
        "- Be patient as the grid search can take a while since it has to train all combinations of models. Don't use too many parameter options or it will too slow.\n",
        "- Report your best hyperparameters and accuracy.  Unfortunately, you will not always get as high a score as you might expect.  This is in part due to the simplicity of the dataset.  It also teaches that in gerneral you should not always blindly assume that a tool will get you the results you expect and that you may need to consider multiple approaches."
      ]
    },
    {
      "cell_type": "code",
      "execution_count": 7,
      "metadata": {
        "id": "ae_z5q3xfUDC",
        "colab": {
          "base_uri": "https://localhost:8080/"
        },
        "outputId": "c0329c9a-8d20-4bb2-8d42-d9838f4685f2"
      },
      "outputs": [
        {
          "output_type": "stream",
          "name": "stdout",
          "text": [
            "{'hidden_layer_sizes': [128], 'learning_rate_init': 0.1, 'momentum': 0.25}\n",
            "0.4404040404040404\n"
          ]
        }
      ],
      "source": [
        "#Grid search for hyperparameters.\n",
        "#Here is one variation of code you could use for your grid search. You can try your own variation if you prefer.\n",
        "from sklearn.model_selection import GridSearchCV\n",
        "\n",
        "X, y = load_vowel()\n",
        "\n",
        "clf = MLPClassifier(activation='logistic', solver='sgd',alpha=0,early_stopping=True, n_iter_no_change=10, batch_size=1)\n",
        "parameters = {'learning_rate_init':(.01, .1, 1),\n",
        "              'hidden_layer_sizes': ([32], [64], [128]),\n",
        "              'momentum':(0, .25, .5)}\n",
        "grid = GridSearchCV(clf, parameters)\n",
        "grid.fit(X,y) #This takes a while to run\n",
        "print(grid.best_params_)\n",
        "print(grid.best_score_)"
      ]
    },
    {
      "cell_type": "code",
      "execution_count": 8,
      "metadata": {
        "id": "TWEwYWBCfUDC",
        "colab": {
          "base_uri": "https://localhost:8080/"
        },
        "outputId": "f1f152b9-be84-4843-ddc6-e2cb676722f3"
      },
      "outputs": [
        {
          "output_type": "stream",
          "name": "stdout",
          "text": [
            "{'hidden_layer_sizes': [128], 'learning_rate_init': 0.36862805837804963, 'momentum': 0.33408090406386265}\n",
            "0.3494949494949495\n"
          ]
        }
      ],
      "source": [
        "#Randomized search for hyperparameters\n",
        "#Here is one variation of code you could use for your randomized search.\n",
        "\n",
        "X, y = load_vowel()\n",
        "\n",
        "from sklearn.model_selection import RandomizedSearchCV\n",
        "from scipy.stats import uniform\n",
        "clf = MLPClassifier(activation='logistic', solver='sgd',alpha=0,early_stopping=True, n_iter_no_change=10, batch_size=1)\n",
        "distributions = dict(learning_rate_init=uniform(loc=0.01, scale=.99), #loc is the min val, and loc + scale is the max val\n",
        "                    hidden_layer_sizes = ([32], [64], [128]), #since there is no distribution it samples these values uniformly\n",
        "                    momentum=uniform(loc=0,scale =.99))\n",
        "search = RandomizedSearchCV(clf, distributions, n_iter=10)\n",
        "search.fit(X,y)\n",
        "print(search.best_params_)\n",
        "print(search.best_score_)"
      ]
    },
    {
      "cell_type": "markdown",
      "metadata": {
        "id": "BqSFAXwlk3Ms"
      },
      "source": [
        "*Discussion and comparison of grid and randomized parameter search*\n",
        "\n",
        "For both grid search and randomized search, results really weren't that great. Grid search ended up with 44% accuracy, and randomized search had 35% accuracy. It is important to remember that there are 11 different classification, so both of those are much better than average, but by trying out parameters on my own, I achieved about 95% accuracy. I noticed that on grid search, the best results came with using lr 0.1 which was the best I had found in my own testing in previoius problems. However, for randomized, it was 0.37 which I am sure that with more trials, a different value (perhaps closer to 0.1) would be returned for that. The momentums returned by each was 0.25, and 0.33, respectively which, looking at my chart from 2.4, I can see that those are likely good values.\n",
        "\n",
        "Though the results were not great, I believe that they could be improved. For grid search, that would involve adding more possible hyperparameter values to try. For randomized search, it would mean increasing the iterations to more than 10. I think my biggest takeaway from this problem is that it can take a lot of trial and error to find the best hyperparameters, but using what intuition you have about the meaning of each hyperparameter can help you get to a good configuration more quickly."
      ]
    },
    {
      "cell_type": "markdown",
      "metadata": {
        "id": "lIM0rEA9tlxu"
      },
      "source": [
        "## 3 Regression with MLPs\n",
        "\n",
        "### 3.1 (10%) - Learn a regression data set of your choice\n",
        "\n",
        "Train MLP on any real world data set that requires regression (i.e. has a real valued ouput) and discuss your effort and results.  While the [Irvine ML Repository](https://archive.ics.uci.edu) is a great resource, also onsider [Kaggle](https://www.kaggle.com) and [OpenML](https://openml.org) as other great place to find datasets.\n",
        "- Use [MLPRegressor](https://scikit-learn.org/stable/modules/generated/sklearn.neural_network.MLPRegressor.html#sklearn.neural_network.MLPRegressor) rather than MLPclassifier.  It has almost the exact same setup as MLPClassier except it uses the linear activation function for the output nodes and SSE as the loss function.  MLPClassier uses softmax activation for the output nodes and cross-entropy for the loss function.\n",
        "- Use any reasonable hyperparameters that you want.  \n",
        "- You will probably need to normalize input features.\n",
        "- It is not typically necessary to normalize the output.\n",
        "- Split into train and test and report the training and test set MAEs (Mean Absolute Error). For regression problems where we don't normalize the output, MAE is an intuitive measure as it shows exactly how much our output is off on average."
      ]
    },
    {
      "cell_type": "code",
      "execution_count": null,
      "metadata": {
        "id": "OFQv70W2VyqJ",
        "colab": {
          "base_uri": "https://localhost:8080/"
        },
        "outputId": "0ee8bb46-4035-4930-abac-8c94da260368"
      },
      "outputs": [
        {
          "output_type": "stream",
          "name": "stdout",
          "text": [
            "Train Set MAE:  3.8054130246178097\n",
            "Test Set MAE:  6.198608561093369\n"
          ]
        }
      ],
      "source": [
        "# Load and Learn a real world regression data set\n",
        "X, y = load_real_estate_valuation()\n",
        "X = MinMaxScaler().fit_transform(X) # normalize X\n",
        "X_train, X_test, y_train, y_test = train_test_split(X, y, test_size=0.2)\n",
        "\n",
        "clf = MLPRegressor(hidden_layer_sizes = [64],\n",
        "                    activation = 'logistic',\n",
        "                    solver = 'sgd',\n",
        "                    alpha = 0,\n",
        "                    batch_size = 1,\n",
        "                    learning_rate_init = 0.01,\n",
        "                    shuffle = True,\n",
        "                    momentum = 0,\n",
        "                    n_iter_no_change = 50,\n",
        "                    max_iter = 1000)\n",
        "clf.fit(X_train, y_train)\n",
        "\n",
        "# mean absolute error (how much the output is off on average)\n",
        "print(\"Train Set MAE: \", mean_absolute_error(clf.predict(X_train), y_train))\n",
        "print(\"Test Set MAE: \", mean_absolute_error(clf.predict(X_test), y_test))"
      ]
    },
    {
      "cell_type": "markdown",
      "metadata": {
        "id": "dKqPTreAfUDC"
      },
      "source": [
        "*Discussion*\n",
        "\n",
        "For regression, I chose to use a real estate pricing dataset from the UC Irvine ML Repository. The dataset has six different features in X, and and the regression value is the cost of the house per area unit in Taiwanese dollars.\n",
        "\n",
        "To normalize the input values (X), I used Scikit-learn's MinMaxScalar. It's default is to normalize values between 0 and 1. This was easy to figure out and use.\n",
        "\n",
        "For the parameters, I used all the same parameters used in 1.1 with MLPClassifier. I read through the documentation's description of each one to ensure that the value made sense for the Regressor, and everything checked out.\n",
        "\n",
        "To show model performane, I used mean absolute error. This is similar to mean squared error, but it doesn't square each error, so the result can be taken at face value. For example, the MAE on the training set was 3.80. The cost of houses per area unit (in Taiwanese dollars) varied between about 20 to 60, so an MAE of 3.80 means that the model was off 3.80 Taiwanese dollars per area unit on average. The test set MAE was 6.19 meaning that the prediction was off by an average of 6.19 Taiwanese dollars per area unit. The numbers appear to be realistic, as I would expect the predictions to be more accurate on the training data, because it has been seen before. Also, being off by 3 to 6 Taiwanese dollars per area unit seem about right when houses sold for 20 to 60 dollars per area unit."
      ]
    },
    {
      "cell_type": "markdown",
      "metadata": {
        "id": "67Rg1yJ6fUDD"
      },
      "source": [
        "### 3.2 (10%) - Other MLP Hyperparameters\n",
        "With the same data set, you may (not required) experiment with some of the hyperparameters you already did above (LR, hidden nodes, momentum, validation set parameters, regularization).  But for sure experiment with and discuss the results of the first two hyperparameters below (activation functions and multiple hidden layers).  We encourage you to experiment briefly with the others but they are not required.\n",
        "\n",
        "- different hidden layer activation functions (tanh, relu in addition to logistic) - Note that Sklean does not currently let you choose the output layer activation function.  It is automatically softmax for classification and linear for regression.\n",
        "- more than one hidden layer\n",
        "- solver - try adam and lbfgs in addition to sgd\n",
        "- batch size\n",
        "- learning rate adaptation - this is the schedule parameter which lets LR adapt during learning"
      ]
    },
    {
      "cell_type": "code",
      "execution_count": null,
      "metadata": {
        "id": "Hu1JE4vStlxv",
        "colab": {
          "base_uri": "https://localhost:8080/"
        },
        "outputId": "642e7423-6f58-4bc5-9dab-6a61c1420e62"
      },
      "outputs": [
        {
          "output_type": "stream",
          "name": "stdout",
          "text": [
            "Avtivation Function: logistic\n",
            "   Num Iterations:  479\n",
            "   Train Set MAE:  4.395856580002049\n",
            "   Test Set MAE:  5.1787800398926045\n",
            "Avtivation Function: tanh\n",
            "   Num Iterations:  184\n",
            "   Train Set MAE:  4.774979283069192\n",
            "   Test Set MAE:  5.737246471689992\n",
            "Avtivation Function: relu\n",
            "   Num Iterations:  69\n",
            "   Train Set MAE:  6.4767721502855\n",
            "   Test Set MAE:  6.311839202420985\n",
            "Hidden Layers: 1x64 Nodes\n",
            "   Num Iterations:  407\n",
            "   Train Set MAE:  4.573273002818494\n",
            "   Test Set MAE:  5.179737623210011\n",
            "Hidden Layers: 2x64 Nodes\n",
            "   Num Iterations:  541\n",
            "   Train Set MAE:  3.817450429039524\n",
            "   Test Set MAE:  5.560997908827189\n",
            "Hidden Layers: 3x64 Nodes\n",
            "   Num Iterations:  458\n",
            "   Train Set MAE:  3.9846382561408094\n",
            "   Test Set MAE:  5.1578580525483355\n",
            "Solver: sgd\n",
            "   Num Iterations:  501\n",
            "   Train Set MAE:  4.286590577029622\n",
            "   Test Set MAE:  5.402109881431841\n",
            "Solver: adam\n",
            "   Num Iterations:  654\n",
            "   Train Set MAE:  3.577878046128675\n",
            "   Test Set MAE:  5.8923150071378645\n"
          ]
        },
        {
          "output_type": "stream",
          "name": "stderr",
          "text": [
            "/usr/local/lib/python3.10/dist-packages/sklearn/neural_network/_multilayer_perceptron.py:545: ConvergenceWarning: lbfgs failed to converge (status=1):\n",
            "STOP: TOTAL NO. of ITERATIONS REACHED LIMIT.\n",
            "\n",
            "Increase the number of iterations (max_iter) or scale the data as shown in:\n",
            "    https://scikit-learn.org/stable/modules/preprocessing.html\n",
            "  self.n_iter_ = _check_optimize_result(\"lbfgs\", opt_res, self.max_iter)\n"
          ]
        },
        {
          "output_type": "stream",
          "name": "stdout",
          "text": [
            "Solver: lbfgs\n",
            "   Num Iterations:  1000\n",
            "   Train Set MAE:  2.460354185998417\n",
            "   Test Set MAE:  7.809441180531832\n",
            "Batch Size: 1\n",
            "   Num Iterations:  555\n",
            "   Train Set MAE:  4.469932289546121\n",
            "   Test Set MAE:  4.964162873290322\n"
          ]
        },
        {
          "output_type": "stream",
          "name": "stderr",
          "text": [
            "/usr/local/lib/python3.10/dist-packages/sklearn/neural_network/_multilayer_perceptron.py:690: ConvergenceWarning: Stochastic Optimizer: Maximum iterations (1000) reached and the optimization hasn't converged yet.\n",
            "  warnings.warn(\n"
          ]
        },
        {
          "output_type": "stream",
          "name": "stdout",
          "text": [
            "Batch Size: 100\n",
            "   Num Iterations:  1000\n",
            "   Train Set MAE:  5.337750280761626\n",
            "   Test Set MAE:  5.240567375495366\n"
          ]
        },
        {
          "output_type": "stream",
          "name": "stderr",
          "text": [
            "/usr/local/lib/python3.10/dist-packages/sklearn/neural_network/_multilayer_perceptron.py:690: ConvergenceWarning: Stochastic Optimizer: Maximum iterations (1000) reached and the optimization hasn't converged yet.\n",
            "  warnings.warn(\n"
          ]
        },
        {
          "output_type": "stream",
          "name": "stdout",
          "text": [
            "Batch Size: 200\n",
            "   Num Iterations:  1000\n",
            "   Train Set MAE:  5.693043879294212\n",
            "   Test Set MAE:  5.4221376406515605\n",
            "Learning Rate Adaption: Constant\n",
            "   Num Iterations:  420\n",
            "   Train Set MAE:  4.691328359562175\n",
            "   Test Set MAE:  5.237882031296957\n"
          ]
        },
        {
          "output_type": "stream",
          "name": "stderr",
          "text": [
            "/usr/local/lib/python3.10/dist-packages/sklearn/neural_network/_multilayer_perceptron.py:690: ConvergenceWarning: Stochastic Optimizer: Maximum iterations (1000) reached and the optimization hasn't converged yet.\n",
            "  warnings.warn(\n"
          ]
        },
        {
          "output_type": "stream",
          "name": "stdout",
          "text": [
            "Learning Rate Adaption: Invscaling\n",
            "   Num Iterations:  1000\n",
            "   Train Set MAE:  5.781119970498937\n",
            "   Test Set MAE:  5.495903984651197\n",
            "Learning Rate Adaption: Adaptive\n",
            "   Num Iterations:  1000\n",
            "   Train Set MAE:  4.199652718162061\n",
            "   Test Set MAE:  5.218147838451525\n"
          ]
        },
        {
          "output_type": "stream",
          "name": "stderr",
          "text": [
            "/usr/local/lib/python3.10/dist-packages/sklearn/neural_network/_multilayer_perceptron.py:690: ConvergenceWarning: Stochastic Optimizer: Maximum iterations (1000) reached and the optimization hasn't converged yet.\n",
            "  warnings.warn(\n"
          ]
        }
      ],
      "source": [
        "# Run with different hyperparameters\n",
        "default_params = {\n",
        "    'hidden_layer_sizes': [64],\n",
        "    'activation': 'logistic',\n",
        "    'solver': 'sgd',\n",
        "    'alpha': 0,\n",
        "    'batch_size': 1,\n",
        "    'learning_rate_init': 0.01,\n",
        "    'shuffle': True,\n",
        "    'momentum': 0,\n",
        "    'n_iter_no_change': 50,\n",
        "    'max_iter': 1000\n",
        "}\n",
        "\n",
        "trials = [\n",
        "    [{'activation': 'logistic'}, \"Avtivation Function: logistic\"],\n",
        "    [{'activation': 'tanh'}, \"Avtivation Function: tanh\"],\n",
        "    [{'activation': 'relu'}, \"Avtivation Function: relu\"],\n",
        "    [{'hidden_layer_sizes': [64]}, \"Hidden Layers: 1x64 Nodes\"],\n",
        "    [{'hidden_layer_sizes': [64, 64]}, \"Hidden Layers: 2x64 Nodes\"],\n",
        "    [{'hidden_layer_sizes': [64, 64, 64]}, \"Hidden Layers: 3x64 Nodes\"],\n",
        "    [{'solver': 'sgd'}, \"Solver: sgd\"],\n",
        "    [{'solver': 'adam'}, \"Solver: adam\"],\n",
        "    [{'solver': 'lbfgs'}, \"Solver: lbfgs\"],\n",
        "    [{'batch_size': 1}, \"Batch Size: 1\"],\n",
        "    [{'batch_size': 100}, \"Batch Size: 100\"],\n",
        "    [{'batch_size': 200}, \"Batch Size: 200\"],\n",
        "    [{'learning_rate': 'constant'}, \"Learning Rate Adaption: Constant\"],\n",
        "    [{'learning_rate': 'invscaling'}, \"Learning Rate Adaption: Invscaling\"],\n",
        "    [{'learning_rate': 'adaptive'}, \"Learning Rate Adaption: Adaptive\"]\n",
        "]\n",
        "\n",
        "X, y = load_real_estate_valuation()\n",
        "X = MinMaxScaler().fit_transform(X) # normalize X\n",
        "X_train, X_test, y_train, y_test = train_test_split(X, y, test_size=0.2)\n",
        "\n",
        "for trial in trials:\n",
        "  trial_params, trial_title = trial[0], trial[1]\n",
        "  params = {**default_params, **trial_params}\n",
        "\n",
        "  clf = MLPRegressor(**params)\n",
        "  clf.fit(X_train, y_train)\n",
        "\n",
        "  print(trial_title)\n",
        "  print(\"   Num Iterations: \", clf.n_iter_)\n",
        "  print(\"   Train Set MAE: \", mean_absolute_error(clf.predict(X_train), y_train))\n",
        "  print(\"   Test Set MAE: \", mean_absolute_error(clf.predict(X_test), y_test))\n"
      ]
    },
    {
      "cell_type": "markdown",
      "metadata": {
        "id": "HScVQasltlxv"
      },
      "source": [
        "*Discussion*\n",
        "\n",
        "I was able to experiment with several different parameters but for time, I will just discuss the two required ones (Activation function and multiple hidden layers).\n",
        "\n",
        "## Activation Function (logistic, tanh, relu)\n",
        "\n",
        "The activation function is used in the MLP algorithm to compute the output (z) from the input (net) for a node. Logistic is also known as the sigmoid function, and apart from values that are very close to the center, returns a number very close to 0 or 1. This can be really good for classifying values as one of two classes, but I was surprised to find that it performed better than both tanh and relu. Tanh is the hyperbolic tangent function. It also uses an s-curve like the sigmoid/logistic function, but its values go from -1 to 1. The biggest difference to the sigmoid function is the difference in the range and the fact that it centers around y = 0, as well as the fact that there is a steeper gradiant than the sigmid function. With tanh, the number of iterations was almost cut in third compared to that of the logistic function, but performance on both the training and test set dropped slightly (about 0.5 for both training and test). Relu uses the max of 0 and x, which means that from x <= 0, the y values is 0 (flat), then at x = y, there is an infinite straight line at a slope of 1. From what I read, relu is better for deeper networks, which may be why here, with only one hidden layer, the regressor actually performed worse than both other activation functions. One benefit, however, is that training only took 69 epochs vs 479 epochs with logistic and 180 epochs with tanh.\n",
        "\n",
        "## Multiple hidden layers ([64], [64, 64], [64, 64, 64])\n",
        "\n",
        "Hidden layers are the nodes in between the input and output layers. The way these are specified in MLPRegressor (and classifier) it to pass a list where each index represents a hidden layer, and the value at each index represents the number of nodes in that layer. I decided to experiment with three options, the first having one layer with 64 nodes, the second having two layers with 64 nodes in each, and the third having three layers with 64 nodes in each. Interestingly, increading the number of layers didn't increase the number of iterations till convergence. That could have to do with how the data ended up being split, and just the luck of it, but I'm sure it also has to do with the fact that when there are more nodes, every node is still visited in each iteration, so having more nodes doesn't necessarily hinder the number of iterations until convergence.\n"
      ]
    },
    {
      "cell_type": "markdown",
      "metadata": {
        "id": "cTlK-kijk8Mg"
      },
      "source": [
        "## 4. (Optional 20% extra credit) Code up your own MLP/Backprop learner\n",
        "Below is a scaffold you could use if you want. Requirements for this task:\n",
        "- Your model should support the methods shown in the example scaffold below.\n",
        "- Ability to create a network structure with at least one hidden layer and an arbitrary number of nodes. You may choose just one activation function for all hidden and output nodes if you want (e.g. logistic activation function where the loss is SSE rather than cross-entropy).\n",
        "- Random weight initialization with small random weights with 0 mean. Remember that every hidden and output node should have its own bias weight.\n",
        "- Use stochastic training updates: update weights after each training instance (i.e. not batch)\n",
        "- Option to include a momentum term\n",
        "- Your class can inherit from the relevant scikit-learn learners (e.g. data shuffling, etc.), but don't call any of the super methods to accomplish the core methods in the scaffold.\n",
        "- Run the Iris data set above with your Backprop version. Show and discuss your results and how they compare with the sklearn version.\n",
        "- Coding MLP is a good experience but is a little more challening that implementing other models so the extra credit points are higher than typical."
      ]
    },
    {
      "cell_type": "markdown",
      "metadata": {
        "id": "rokMDC3Qtlxv"
      },
      "source": [
        "*Discuss your results and any differences*\n",
        "\n",
        "Implementing the MLP was a lot of work, but a lot of fun! I used the same activation function (logistic) as the homework problem, as well as the same error functions for both output and hidden layers. Because of this, I was able to compare results to the HW problem and ensure that it was functioning properly. If you scroll down to past the implementation, you can see where I ran my MLP on the homework problem and the results are the same.\n",
        "\n",
        "I also ran my MLP on the Iris dataset (also below) and got excellent results. It's training set score was almost 100%, and the test set score was 93%, though having messed around with parameters a bit, I did get ~97% at least once, which is good as I got with the Scikit-Learn MLP with loss regularization.\n",
        "\n",
        "I tried to break everything out into functions as much as possible, so hopefully, the code is easy to read and understand. An interesting decision that I had to make was how to implement my score function. In the process, I learned the distinction between `multi-class classification` where the classification is one of several classes and `multi-label classification`, where the classification can be true for any number of attributes. Since the Iris data set is multi-class classifcation, I implemented my score function that way. It simply picks the greatest value as the winner, and compares that to the expected value in y.\n",
        "\n",
        "As a note for understanding my implementation, I saw that state variable terminology could easily become complicated, so I decided to use `1` for the input layer, `2` for the hidden layer, and `3` for the output layer. This makes understanding the variables more inuitive when looking at a lot of them. Additionally, I use `W` for weights, `N` for net, `Z` for output, and `E` for error. My implementation only allows for one hidden layer.\n"
      ]
    },
    {
      "cell_type": "code",
      "execution_count": 34,
      "metadata": {
        "id": "hn8n_iR8tlxv"
      },
      "outputs": [],
      "source": [
        "from sklearn.base import BaseEstimator, ClassifierMixin\n",
        "from sklearn.utils import shuffle\n",
        "\n",
        "class MLP(BaseEstimator,ClassifierMixin):\n",
        "  \"\"\"\n",
        "  NOTE - The current score function is built for multi-class classification (an\n",
        "         output may be one of several classes), rather than multi-label\n",
        "         classification (an output may be any number of the labels). If you want\n",
        "         to perform multi-label classifcation, simply implement a score function\n",
        "         that assumes that any number of the outputs can be part of the\n",
        "         classification (rather than only one)\n",
        "\n",
        "  X:\n",
        "    [[1a, 1b, 1c],\n",
        "     [2a, 2b, 2c],\n",
        "     [3a, 3b, 3c],\n",
        "    ]\n",
        "  y: [[1], NOTE - y for each input set MUST be in an array\n",
        "      [2]\n",
        "      [3]]\n",
        "  Layer Representation:\n",
        "    output_layer:    [7]        width=len(y[0])\n",
        "    hidden_layer: [4, 5, 6_bias]  width=hidden_layer_widths + 1 (bias) (only 1 hidden layer)\n",
        "    input_layer:  [1, 2, 3_bias]  width=len(X[0]) + 1 (bias)\n",
        "  Weight Representation:\n",
        "    W_1_to_2: input -> hidden\n",
        "          4 5 6\n",
        "      1 | . . .\n",
        "      2 | . . .\n",
        "      3 | . . .\n",
        "    W_2_to_3: hidden -> output\n",
        "          7\n",
        "      4 | .\n",
        "      5 | .\n",
        "      6 | .\n",
        "  \"\"\"\n",
        "\n",
        "  def __init__(self,lr=.1, momentum=0, shuffle=True,hidden_layer_widths=8):\n",
        "    \"\"\" Initialize class with chosen hyperparameters.\n",
        "\n",
        "    Args:\n",
        "      lr (float): A learning rate / step size.\n",
        "      shuffle(boolean): Whether to shuffle the training data each epoch. DO NOT SHUFFLE for evaluation / debug datasets.\n",
        "      momentum(float): The momentum coefficent\n",
        "    Optional Args (Args we think will make your life easier):\n",
        "      hidden_layer_widths (list(int)): A list of integers which defines the width of each hidden layer if hidden layer is none do twice as many hidden nodes as input nodes. (and then one more for the bias node)\n",
        "      For example: input width 1, then hidden layer will be 3 nodes\n",
        "    Example:\n",
        "      mlp = MLP(lr=.2,momentum=.5,shuffle=False,hidden_layer_widths = [3,3]),  <--- this will create a model with two hidden layers, both 3 nodes wide\n",
        "    \"\"\"\n",
        "    self.hidden_layer_widths = hidden_layer_widths\n",
        "    self.lr = lr\n",
        "    self.momentum = momentum\n",
        "    self.shuffle = shuffle\n",
        "\n",
        "  def fit(self, X, y, initial_weights=None, max_iter=1000):\n",
        "    \"\"\" Fit the data; run the algorithm and adjust the weights to find a good solution\n",
        "\n",
        "    Args:\n",
        "      X (array-like): A 2D numpy array with the training data, excluding targets\n",
        "      y (array-like): A 2D numpy array with the training targets\n",
        "    Optional Args (Args we think will make your life easier):\n",
        "      initial_weights (array-like): allows the user to provide initial weights\n",
        "    Returns:\n",
        "      self: this allows this to be chained, e.g. model.fit(X,y).predict(X_test)\n",
        "\n",
        "    \"\"\"\n",
        "    self.init_cache(initial_weights)\n",
        "\n",
        "    # compute epochs until 3 consequtive epochs have no weight change greater than TOL\n",
        "    self.tol = 0.001\n",
        "    n_epochs_below_tol, self.n_epochs = 0, 0\n",
        "    while n_epochs_below_tol < 50 and self.n_epochs < max_iter:\n",
        "      # run epoch\n",
        "      max_change = self.run_epoch(X, y)\n",
        "\n",
        "      # prepare for next epoch\n",
        "      self.n_epochs += 1\n",
        "      n_epochs_below_tol = n_epochs_below_tol + 1 if max_change < self.tol else 0\n",
        "      if self.shuffle:\n",
        "        X, y = shuffle(X, y)\n",
        "\n",
        "    return self\n",
        "\n",
        "  def predict(self, X):\n",
        "    \"\"\" Predict all classes for a dataset X\n",
        "    Args:\n",
        "      X (array-like): A 2D numpy array with the training data, excluding targets\n",
        "    Returns:\n",
        "      array, shape (n_samples,)\n",
        "        Predicted target values per element in X.\n",
        "    \"\"\"\n",
        "    n_rows, n_cols = X.shape[0], len(self.Z_3)\n",
        "    res = np.zeros((n_rows, n_cols))\n",
        "    for row in range(n_rows):\n",
        "      self.set_inputs(X[row, :])\n",
        "      self.propagate_forward()\n",
        "\n",
        "      for col in range(n_cols):\n",
        "        res[row, col] = self.Z_3[col]\n",
        "\n",
        "    return res\n",
        "\n",
        "  def score(self, X, y):\n",
        "    \"\"\" Return accuracy of model on a given dataset. Must implement own score function.\n",
        "\n",
        "    Args:\n",
        "      X (array-like): A 2D numpy array with data, excluding targets\n",
        "      y (array-like): A 2D numpy array with targets\n",
        "\n",
        "    Returns:\n",
        "      score : float\n",
        "        Mean accuracy of self.predict(X) wrt. y.\n",
        "    \"\"\"\n",
        "    z = self.predict(X)\n",
        "    rows, cols = z.shape[0], z.shape[1]\n",
        "\n",
        "    num_correct = 0\n",
        "    for row in range(rows):\n",
        "      max_i_t = np.argmax(y[row, :])\n",
        "      max_i_z = np.argmax(z[row, :])\n",
        "      if max_i_t == max_i_z:\n",
        "        num_correct += 1\n",
        "\n",
        "    return num_correct / rows\n",
        "\n",
        "  def init_cache(self, initial_weights: float | None):\n",
        "    n_nodes_1 = X.shape[1] + 1               # input nodes, +1 for bias\n",
        "    n_nodes_2 = self.hidden_layer_widths + 1 # hidden nodes, +1 for bias\n",
        "    n_nodes_3 = y.shape[1]                   # output nodes\n",
        "\n",
        "    # weight vectors\n",
        "    LOW, HIGH = -0.01, 0.01\n",
        "    SHAPE_W_1_TO_2 = (n_nodes_1, n_nodes_2 - 1)\n",
        "    SHAPE_W_2_TO_3 = (n_nodes_2, n_nodes_3)\n",
        "    if (initial_weights):\n",
        "      self.W_1_to_2 = np.full(fill_value=initial_weights, shape=SHAPE_W_1_TO_2)\n",
        "      self.W_2_to_3 = np.full(fill_value=initial_weights, shape=SHAPE_W_2_TO_3)\n",
        "    else:\n",
        "      self.W_1_to_2 = np.random.uniform(low=LOW, high=HIGH, size=SHAPE_W_1_TO_2)\n",
        "      self.W_2_to_3 = np.random.uniform(low=LOW, high=HIGH, size=SHAPE_W_2_TO_3)\n",
        "    self.delta_W_1_to_2 = np.zeros(SHAPE_W_1_TO_2)\n",
        "    self.delta_W_2_to_3 = np.zeros(SHAPE_W_2_TO_3)\n",
        "\n",
        "    # net vectors\n",
        "    self.N_2 = np.zeros(n_nodes_2 - 1) # no net for bias\n",
        "    self.N_3 = np.zeros(n_nodes_3)\n",
        "\n",
        "    # output vectors\n",
        "    self.Z_1 = np.zeros(n_nodes_1)\n",
        "    self.Z_2 = np.zeros(n_nodes_2)\n",
        "    self.Z_3 = np.zeros(n_nodes_3)\n",
        "    self.Z_1[-1], self.Z_2[-1] = 1, 1       # set bias Z\n",
        "\n",
        "    # error vectors\n",
        "    self.E_2 = np.zeros(n_nodes_2 - 1) # no error for bias\n",
        "    self.E_3 = np.zeros(n_nodes_3)\n",
        "\n",
        "  def run_epoch(self, X: ndarray, y: ndarray) -> float:\n",
        "    '''Return max weight update from the epoch'''\n",
        "    n_rows, n_cols = X.shape[0], X.shape[1]\n",
        "\n",
        "    # visit each row (input set)\n",
        "    max_change = 0.0\n",
        "    for row in range(n_rows):\n",
        "      t = y[row]\n",
        "      self.set_inputs(X[row, :])\n",
        "\n",
        "      self.propagate_forward()\n",
        "      max_change = max(max_change, self.propagate_backward(t))\n",
        "\n",
        "    return max_change\n",
        "\n",
        "  def propagate_forward(self):\n",
        "    self.compute_net_hidden_nodes()\n",
        "    self.compute_z_hidden_nodes()\n",
        "    self.compute_net_output_nodes()\n",
        "    self.compute_z_output_nodes()\n",
        "\n",
        "  def propagate_backward(self, t: ndarray):\n",
        "    self.compute_error_output_nodes(t)\n",
        "    self.compute_error_hidden_nodes()\n",
        "    max_change = self.update_weights_input_to_hidden()\n",
        "    max_change = max(max_change, self.update_weights_hidden_to_output())\n",
        "\n",
        "    return max_change\n",
        "\n",
        "  def compute_net_hidden_nodes(self) -> None:\n",
        "    for j in range(len(self.N_2)):\n",
        "      net = 0.0\n",
        "      for i in range(len(self.Z_1)):\n",
        "        net += self.W_1_to_2[i, j] * self.Z_1[i]\n",
        "      self.N_2[j] = net\n",
        "\n",
        "  def compute_z_hidden_nodes(self) -> None:\n",
        "    for j in range(len(self.N_2)):\n",
        "      self.Z_2[j] = self.activation(self.N_2[j])\n",
        "\n",
        "  def compute_net_output_nodes(self) -> None:\n",
        "    for j in range(len(self.N_3)):\n",
        "      net = 0.0\n",
        "      for i in range(len(self.Z_2)):\n",
        "        net += self.W_2_to_3[i, j] * self.Z_2[i]\n",
        "      self.N_3[j] = net\n",
        "\n",
        "  def compute_z_output_nodes(self) -> None:\n",
        "    for j in range(len(self.N_3)):\n",
        "      self.Z_3[j] = self.activation(self.N_3[j])\n",
        "\n",
        "  def compute_error_output_nodes(self, t: ndarray) -> None:\n",
        "    for j in range(len(self.E_3)):\n",
        "      self.E_3[j] = self.error_output_node(j, t)\n",
        "\n",
        "  def compute_error_hidden_nodes(self) -> None:\n",
        "    for j in range(len(self.E_2)):\n",
        "      self.E_2[j] = self.error_hidden_node(j)\n",
        "\n",
        "  def update_weights_input_to_hidden(self) -> float:\n",
        "    max_change = 0.0\n",
        "    for i in range(len(self.Z_1)):\n",
        "      for j in range(len(self.N_2)):\n",
        "        delta_w = self.delta_w(from_layer=1, i=i, j=j)\n",
        "        max_change = max(max_change, abs(delta_w))\n",
        "        self.W_1_to_2[i, j] += delta_w\n",
        "\n",
        "    return max_change\n",
        "\n",
        "  def update_weights_hidden_to_output(self) -> float:\n",
        "    max_change = 0.0\n",
        "    for i in range(len(self.Z_2)):\n",
        "      for j in range(len(self.N_3)):\n",
        "        delta_w = self.delta_w(from_layer=2, i=i, j=j)\n",
        "        max_change = max(max_change, abs(delta_w))\n",
        "        self.W_2_to_3[i, j] += delta_w\n",
        "\n",
        "    return max_change\n",
        "\n",
        "  def set_inputs(self, inputs: ndarray):\n",
        "    '''len(inputs) == len(self.Z_1) - 1 (last item is bias and stays 1)'''\n",
        "    for i in range(len(inputs)):\n",
        "      self.Z_1[i] = inputs[i]\n",
        "    self.Z_1[-1] = 1 # bias\n",
        "\n",
        "  def activation(self, net) -> float:\n",
        "    '''Sigmoid'''\n",
        "    return 1 / (1 + math.exp(-net))\n",
        "\n",
        "  def activation_prime(self, z: float) -> float:\n",
        "    return z * (1 - z)\n",
        "\n",
        "  def delta_w(self, from_layer: Literal[1, 2], i, j) -> float:\n",
        "    '''delta(w_ij) = C * error_j * z_i + alpha * old(delta(w_ij))'''\n",
        "    if from_layer == 1:\n",
        "      e_j = self.E_2[j]\n",
        "      z_i = self.Z_1[i]\n",
        "      old_delta_w = self.delta_W_1_to_2[i, j]\n",
        "    else: # from_layer == 2\n",
        "      e_j = self.E_3[j]\n",
        "      z_i = self.Z_2[i]\n",
        "      old_delta_w = self.delta_W_2_to_3[i, j]\n",
        "\n",
        "    delta_w = self.lr * e_j * z_i + self.momentum * old_delta_w\n",
        "\n",
        "    if from_layer == 1:\n",
        "      self.delta_W_1_to_2[i, j] = delta_w\n",
        "    else: # from_layer == 2\n",
        "      self.delta_W_2_to_3[i, j] = delta_w\n",
        "\n",
        "    return delta_w\n",
        "\n",
        "  def error_output_node(self, j, t: ndarray) -> float:\n",
        "    '''(t_j - z_j) * f'(net_j)'''\n",
        "    z_j = self.Z_3[j]\n",
        "\n",
        "    return (t[j] - z_j) * self.activation_prime(z_j)\n",
        "\n",
        "  def error_hidden_node(self, j) -> float:\n",
        "    '''sum_k(error_k * w_jk) * f'(net_j)'''\n",
        "    sum = 0.0\n",
        "    for k in range(len(self.E_3)):\n",
        "      sum += self.E_3[k] * self.W_2_to_3[j, k]\n",
        "\n",
        "    return sum * self.activation_prime(self.Z_2[j])\n",
        "\n",
        "  def print_weights(self):\n",
        "    print(\"weights from input to hidden:\")\n",
        "    print(self.W_1_to_2)\n",
        "    print(\"weights from hidden to output:\")\n",
        "    print(self.W_2_to_3)"
      ]
    },
    {
      "cell_type": "code",
      "source": [
        "\"\"\"\n",
        " Test with problem from class example (first input set) and Backprop HW (second input set)\n",
        " initial_weights: 0.5, lr: 1.0, momentum: 0, shuffle=False, hidden_layer_widths: 2\n",
        " set1: .9, .6 -> 0\n",
        " set2: -1, .4 -> .2\n",
        "\n",
        " expected weights (AFTER 1 EPOCH):\n",
        "    row=from, col=to\n",
        "        4          5\n",
        "    1 | 0.49990301 0.49990301\n",
        "    2 | 0.48896161 0.48896161\n",
        "    3 | 0.4781734  0.4781734\n",
        "\n",
        "        7\n",
        "    4 | 0.33884203\n",
        "    5 | 0.33884203\n",
        "    6 | 0.26186419\n",
        "\"\"\"\n",
        "X = np.array([[.9, .6], [-1, .4]])\n",
        "y = np.array([[0], [.2]])\n",
        "clf = MLP(lr=1, momentum=0, shuffle=False, hidden_layer_widths=2)\n",
        "clf.fit(X, y, initial_weights=0.5, max_iter=1)\n",
        "\n",
        "print(\"Results Should Be Same As MLP HW:\")\n",
        "clf.print_weights()"
      ],
      "metadata": {
        "colab": {
          "base_uri": "https://localhost:8080/"
        },
        "id": "XBwN_9s8Jrrm",
        "outputId": "39732f69-7dae-4f57-d0fe-a6d6fefecbba"
      },
      "execution_count": 31,
      "outputs": [
        {
          "output_type": "stream",
          "name": "stdout",
          "text": [
            "Results Should Be Same As MLP HW:\n",
            "weights from input to hidden:\n",
            "[[0.49990301 0.49990301]\n",
            " [0.48896161 0.48896161]\n",
            " [0.4781734  0.4781734 ]]\n",
            "weights from hidden to output:\n",
            "[[0.33884203]\n",
            " [0.33884203]\n",
            " [0.26186419]]\n"
          ]
        }
      ]
    },
    {
      "cell_type": "code",
      "source": [
        "# Make predictions with the HW problem but w/1000 iterations\n",
        "X = np.array([[.9, .6], [-1, .4]])\n",
        "y = np.array([[0], [.2]])\n",
        "clf = MLP(lr=1, momentum=0, shuffle=True, hidden_layer_widths=2)\n",
        "clf.fit(X, y, max_iter=1000)\n",
        "\n",
        "print(\"Num epochs: \", str(clf.n_epochs))\n",
        "print(\"\\nOutput Predictions w/MLP HW Problem (Expected: 0, 0.2):\")\n",
        "print(clf.predict(X))\n",
        "\n",
        "print(\"\\nScore:\")\n",
        "print(clf.score(X, y))"
      ],
      "metadata": {
        "colab": {
          "base_uri": "https://localhost:8080/"
        },
        "id": "WXIlNuDvwtS0",
        "outputId": "c99912fa-0e94-4ca5-8880-538b41b683b8"
      },
      "execution_count": 39,
      "outputs": [
        {
          "output_type": "stream",
          "name": "stdout",
          "text": [
            "Num epochs:  936\n",
            "\n",
            "Output Predictions w/MLP HW Problem (Expected: 0, 0.2):\n",
            "[[0.02925073]\n",
            " [0.19439183]]\n",
            "\n",
            "Score:\n",
            "1.0\n"
          ]
        }
      ]
    },
    {
      "cell_type": "code",
      "source": [
        "# Iris Dataset\n",
        "X, y = load_iris()\n",
        "X_train, X_test, y_train, y_test = train_test_split(X, y, test_size=0.2)\n",
        "clf = MLP(lr=.1, momentum=.1, shuffle=True, hidden_layer_widths=8)\n",
        "clf.fit(X_train, y_train, max_iter=1000)\n",
        "print(\"Results from Iris Dataset\")\n",
        "print(\"Num epochs: \", str(clf.n_epochs))\n",
        "\n",
        "print(\"\\nTraining Set Score:\")\n",
        "print(clf.score(X_train, y_train))\n",
        "print(\"\\nTest Set Score:\")\n",
        "print(clf.score(X_test, y_test))\n",
        "\n",
        "print(\"\\n20 Sample Predictions on Iris Dataset:\")\n",
        "actual = clf.predict(X_test)\n",
        "expected = y_test\n",
        "for row in range(actual.shape[0]):\n",
        "  print(\"expected: \", str(expected[row, :]), \", actual: \", str(actual[row, :]))\n",
        "  if row > 20:\n",
        "    break"
      ],
      "metadata": {
        "colab": {
          "base_uri": "https://localhost:8080/"
        },
        "id": "l8iB9Q4lQI1P",
        "outputId": "235b5ca0-ecc7-46f4-b36a-83b29b12e408"
      },
      "execution_count": 38,
      "outputs": [
        {
          "output_type": "stream",
          "name": "stdout",
          "text": [
            "Results from Iris Dataset\n",
            "Num epochs:  1000\n",
            "\n",
            "Training Set Score:\n",
            "0.9916666666666667\n",
            "\n",
            "Test Set Score:\n",
            "0.9333333333333333\n",
            "\n",
            "20 Sample Predictions on Iris Dataset:\n",
            "expected:  [0 0 1] , actual:  [1.53153325e-05 1.40178076e-02 9.91817621e-01]\n",
            "expected:  [0 0 1] , actual:  [1.48706319e-05 1.35087872e-02 9.92330210e-01]\n",
            "expected:  [0 1 0] , actual:  [1.08503814e-02 9.98938918e-01 2.69593324e-04]\n",
            "expected:  [0 0 1] , actual:  [2.55370828e-05 2.96982524e-02 9.78784045e-01]\n",
            "expected:  [0 0 1] , actual:  [1.72051931e-05 1.62100528e-02 9.89809557e-01]\n",
            "expected:  [0 0 1] , actual:  [4.04966292e-05 6.64816391e-02 9.49621515e-01]\n",
            "expected:  [0 1 0] , actual:  [1.22758246e-04 3.35826650e-01 6.60328353e-01]\n",
            "expected:  [0 1 0] , actual:  [0.00490364 0.99680901 0.00129723]\n",
            "expected:  [0 1 0] , actual:  [1.35394473e-02 9.99183425e-01 1.61051826e-04]\n",
            "expected:  [0 1 0] , actual:  [1.73940664e-02 9.99015284e-01 1.42695513e-04]\n",
            "expected:  [1 0 0] , actual:  [9.91112797e-01 1.36648722e-02 1.70857807e-05]\n",
            "expected:  [1 0 0] , actual:  [9.92746522e-01 1.18624808e-02 1.71730790e-05]\n",
            "expected:  [0 1 0] , actual:  [1.30797648e-02 9.99201765e-01 1.64903548e-04]\n",
            "expected:  [0 1 0] , actual:  [1.18278205e-02 9.99117497e-01 2.05905743e-04]\n",
            "expected:  [0 1 0] , actual:  [7.11880597e-03 9.98498656e-01 5.36893890e-04]\n",
            "expected:  [1 0 0] , actual:  [9.91426664e-01 1.33303806e-02 1.71032226e-05]\n",
            "expected:  [0 1 0] , actual:  [0.00187348 0.98604571 0.00796794]\n",
            "expected:  [1 0 0] , actual:  [9.91827667e-01 1.27943236e-02 1.70853872e-05]\n",
            "expected:  [0 1 0] , actual:  [6.96809845e-03 9.98294076e-01 6.26877018e-04]\n",
            "expected:  [1 0 0] , actual:  [9.89126795e-01 1.62616761e-02 1.71641630e-05]\n",
            "expected:  [1 0 0] , actual:  [9.91716118e-01 1.29171053e-02 1.70819517e-05]\n",
            "expected:  [0 1 0] , actual:  [0.00515737 0.99750161 0.00100907]\n"
          ]
        }
      ]
    }
  ],
  "metadata": {
    "colab": {
      "provenance": []
    },
    "kernelspec": {
      "display_name": "Python 2.7.16 64-bit",
      "language": "python",
      "name": "python3"
    },
    "language_info": {
      "codemirror_mode": {
        "name": "ipython",
        "version": 3
      },
      "file_extension": ".py",
      "mimetype": "text/x-python",
      "name": "python",
      "nbconvert_exporter": "python",
      "pygments_lexer": "ipython3",
      "version": "2.7.16"
    },
    "vscode": {
      "interpreter": {
        "hash": "767d51c1340bd893661ea55ea3124f6de3c7a262a8b4abca0554b478b1e2ff90"
      }
    }
  },
  "nbformat": 4,
  "nbformat_minor": 0
}