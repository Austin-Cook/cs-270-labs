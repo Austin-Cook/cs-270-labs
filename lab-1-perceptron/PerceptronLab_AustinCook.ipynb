{
  "cells": [
    {
      "cell_type": "markdown",
      "metadata": {
        "id": "DVL7_bgmIAPR"
      },
      "source": [
        "# Perceptron Lab"
      ]
    },
    {
      "cell_type": "markdown",
      "metadata": {
        "id": "rBIfzcfn3QPO"
      },
      "source": [
        "This is the scaffold notebook for the perceptron lab and each lab will have a similar scaffold.  Make your own copy of this notebook and then you can fill in the tasks.  **You will fill in code boxes and test boxes with discussion for most tasks** and particularly discussion of results, graphs, etc. Good writing, grammar, punctuation, etc. are important and points will be taken off if these things are lacking.\n",
        "\n",
        "In most cases just reporting results without discussion will not receive full credit. Thus, your discussion should also include sentences like the following: This is because…  Note that the …  I was surprised to observe… I am not sure why …, but my hypothesis is that …\n",
        "\n",
        "Start by looking over the scikit-learn [user guide](https://scikit-learn.org/stable/user_guide.html) and carefully reading over the [perceptron documentation](https://scikit-learn.org/stable/modules/generated/sklearn.linear_model.Perceptron.html)."
      ]
    },
    {
      "cell_type": "code",
      "execution_count": 2,
      "metadata": {
        "id": "6ZbYjZZZ_yLV"
      },
      "outputs": [],
      "source": [
        "# imports\n",
        "import numpy as np\n",
        "from scipy.io import arff\n",
        "import pandas as pd\n",
        "from typing import Tuple\n",
        "from sklearn.linear_model import Perceptron\n",
        "from sklearn.model_selection import train_test_split\n",
        "from numpy import ndarray\n",
        "import matplotlib.pyplot as plt\n",
        "from tabulate import tabulate\n",
        "import csv"
      ]
    },
    {
      "cell_type": "markdown",
      "metadata": {
        "id": "KibCIXIThpbE"
      },
      "source": [
        "## 1. Debug and Evaluation\n",
        "\n",
        "For most labs we will give you some data and expected results so that you can verify that you are doing things right and getting appropriate results.  We will then have you run on some other data with the exact same hyperparameters so we can see if your results are correct.\n",
        "\n",
        "### 1.1 Debug (5%)\n",
        "Download this [data set](https://raw.githubusercontent.com/cs472ta/CS472/master/datasets/linsep2nonorigin.arff) into your local directory and name it debug.arff.  To download rather than view, right-click the link and save as.  To allow consistent results run the Perceptron using the following hyperparameters:\n",
        "- Learning rate = .1\n",
        "- Do NOT shuffle the data after every epoch like you would normally do\n",
        "- Learn for a maximum of 10 epochs\n",
        "- Start all weights at 0 (which is the default for this scikit-learn implementation)  \n",
        "\n",
        "Your results should be:\n",
        "Accuracy = [.875]\\\n",
        "Final Weights = [[-0.23  0.18]]\\\n",
        "[-0.1] - This last weight is the bias weight, which they call the intercept.\n",
        "\n",
        "To help you with this first task, following is one detailed variation that would do this for you. You may use your own variation.  Note that commonly used variable names in the community are clf (classifier), X (array of input features), y (vector of output labels)."
      ]
    },
    {
      "cell_type": "code",
      "source": [
        "def run_perceptron_defaults(data_file: str) -> Tuple[Perceptron, ndarray, ndarray]:\n",
        "  clf = Perceptron(shuffle=False, verbose=1, eta0=.1, max_iter=10)\n",
        "\n",
        "  # load evaluation data\n",
        "  Data_Set = arff.loadarff(data_file)\n",
        "  Data_Set_df = pd.DataFrame(Data_Set[0])\n",
        "  Data_Set_np = Data_Set_df.to_numpy()\n",
        "  Data_Set_np = Data_Set_np.astype(float)\n",
        "  X = Data_Set_np[:, :-1]\n",
        "  y = Data_Set_np[:, -1]\n",
        "\n",
        "  # train on the evaluation data\n",
        "  clf.fit(X, y)\n",
        "\n",
        "  return clf, X, y"
      ],
      "metadata": {
        "id": "wyd6JvrAKbJG"
      },
      "execution_count": null,
      "outputs": []
    },
    {
      "cell_type": "code",
      "execution_count": null,
      "metadata": {
        "id": "KgAyy82gixIF",
        "colab": {
          "base_uri": "https://localhost:8080/"
        },
        "outputId": "5689f34f-a6d9-41a3-ac7b-56fbcc331abd"
      },
      "outputs": [
        {
          "output_type": "stream",
          "name": "stdout",
          "text": [
            "-- Epoch 1\n",
            "Norm: 0.04, NNZs: 2, Bias: -0.100000, T: 8, Avg. loss: 0.013500\n",
            "Total training time: 0.00 seconds.\n",
            "-- Epoch 2\n",
            "Norm: 0.07, NNZs: 2, Bias: -0.100000, T: 16, Avg. loss: 0.011875\n",
            "Total training time: 0.00 seconds.\n",
            "-- Epoch 3\n",
            "Norm: 0.11, NNZs: 2, Bias: -0.100000, T: 24, Avg. loss: 0.010250\n",
            "Total training time: 0.00 seconds.\n",
            "-- Epoch 4\n",
            "Norm: 0.14, NNZs: 2, Bias: -0.100000, T: 32, Avg. loss: 0.008625\n",
            "Total training time: 0.01 seconds.\n",
            "-- Epoch 5\n",
            "Norm: 0.18, NNZs: 2, Bias: -0.100000, T: 40, Avg. loss: 0.007000\n",
            "Total training time: 0.01 seconds.\n",
            "-- Epoch 6\n",
            "Norm: 0.21, NNZs: 2, Bias: -0.100000, T: 48, Avg. loss: 0.005375\n",
            "Total training time: 0.01 seconds.\n",
            "-- Epoch 7\n",
            "Norm: 0.23, NNZs: 2, Bias: -0.100000, T: 56, Avg. loss: 0.008250\n",
            "Total training time: 0.01 seconds.\n",
            "-- Epoch 8\n",
            "Norm: 0.25, NNZs: 2, Bias: -0.100000, T: 64, Avg. loss: 0.007625\n",
            "Total training time: 0.01 seconds.\n",
            "-- Epoch 9\n",
            "Norm: 0.27, NNZs: 2, Bias: -0.100000, T: 72, Avg. loss: 0.007000\n",
            "Total training time: 0.01 seconds.\n",
            "-- Epoch 10\n",
            "Norm: 0.29, NNZs: 2, Bias: -0.100000, T: 80, Avg. loss: 0.006375\n",
            "Total training time: 0.01 seconds.\n",
            "[[-0.23  0.18]]\n",
            "[-0.1]\n",
            "0.875\n"
          ]
        },
        {
          "output_type": "stream",
          "name": "stderr",
          "text": [
            "/usr/local/lib/python3.10/dist-packages/sklearn/linear_model/_stochastic_gradient.py:713: ConvergenceWarning: Maximum number of iteration reached before convergence. Consider increasing max_iter to improve the fit.\n",
            "  warnings.warn(\n"
          ]
        }
      ],
      "source": [
        "clf, X, y = run_perceptron_defaults('debug.arff')\n",
        "\n",
        "print(clf.coef_)        # final weights\n",
        "print(clf.intercept_)   # final bias weight\n",
        "print(clf.score(X, y))  # accuracy"
      ]
    },
    {
      "cell_type": "markdown",
      "metadata": {
        "id": "47Fey9Ff5fJF"
      },
      "source": [
        "Notes:\n",
        "* If you increase (or just remove) max_iter your perceptron will converge to 100% in one more epoch.  Try it!\n",
        "* verbose (integer) specifies how much info you get after each epoch.  It does not change results.  Try it with 0.\n",
        "    * Norm is a measure of the total weight magnitudes in the current model.\n",
        "    * NNZs is the number of non-zero weights there currently are (not including the bias).\n",
        "    * clf.intercept_ is the value of the bias weight, NOT the actual y-intercept of the decision surface, though it will affect that.\n",
        "    * T is the total number of weight updates so far.  In this case all the weights were updated each epoch.\n",
        "    * Avg. loss is another measure of error.  More on that later.\n",
        "    * The activation function outputs 1 if net > 0, else 0."
      ]
    },
    {
      "cell_type": "markdown",
      "metadata": {
        "id": "kY3VNB1ui03N"
      },
      "source": [
        "### 1.2 (5%) Evaluation\n",
        "\n",
        "Now run your model  on the [evaluation dataset](https://raw.githubusercontent.com/cs472ta/CS472/master/datasets/data_banknote_authentication.arff) and report the final accuracy, weights, and bias. Use the exact same hyperparameters as the debug dataset. The most common reason for results not matching ours is not exactly using the same hyperparameters (e.g. initial weights, training exactly 10 epochs, no shuffling, etc.) Hint: Throughout these labs for the numerous cases where you are doing the same task, but with different data (e.g. debug, eval), you could create a function where you just pass the data set name, so as not to recreate the code multiple times."
      ]
    },
    {
      "cell_type": "code",
      "execution_count": null,
      "metadata": {
        "id": "2yAxA78QjDh2",
        "colab": {
          "base_uri": "https://localhost:8080/"
        },
        "outputId": "d00b8b83-596c-439f-91c1-79243c3923e5"
      },
      "outputs": [
        {
          "output_type": "stream",
          "name": "stdout",
          "text": [
            "-- Epoch 1\n",
            "Norm: 1.42, NNZs: 4, Bias: 2.100000, T: 1372, Avg. loss: 0.023615\n",
            "Total training time: 0.00 seconds.\n",
            "-- Epoch 2\n",
            "Norm: 2.90, NNZs: 4, Bias: 2.600000, T: 2744, Avg. loss: 0.022359\n",
            "Total training time: 0.00 seconds.\n",
            "-- Epoch 3\n",
            "Norm: 3.62, NNZs: 4, Bias: 3.500000, T: 4116, Avg. loss: 0.028435\n",
            "Total training time: 0.00 seconds.\n",
            "-- Epoch 4\n",
            "Norm: 4.36, NNZs: 4, Bias: 3.700000, T: 5488, Avg. loss: 0.013195\n",
            "Total training time: 0.01 seconds.\n",
            "-- Epoch 5\n",
            "Norm: 4.51, NNZs: 4, Bias: 4.300000, T: 6860, Avg. loss: 0.015216\n",
            "Total training time: 0.01 seconds.\n",
            "-- Epoch 6\n",
            "Norm: 4.70, NNZs: 4, Bias: 4.700000, T: 8232, Avg. loss: 0.026061\n",
            "Total training time: 0.01 seconds.\n",
            "-- Epoch 7\n",
            "Norm: 5.40, NNZs: 4, Bias: 4.600000, T: 9604, Avg. loss: 0.018060\n",
            "Total training time: 0.01 seconds.\n",
            "-- Epoch 8\n",
            "Norm: 5.83, NNZs: 4, Bias: 4.800000, T: 10976, Avg. loss: 0.018378\n",
            "Total training time: 0.01 seconds.\n",
            "-- Epoch 9\n",
            "Norm: 5.88, NNZs: 4, Bias: 5.200000, T: 12348, Avg. loss: 0.015085\n",
            "Total training time: 0.01 seconds.\n",
            "Convergence after 9 epochs took 0.01 seconds\n",
            "[[-4.28857497 -2.390381   -3.0160324  -1.1686672 ]]\n",
            "[5.2]\n",
            "0.9766763848396501\n"
          ]
        }
      ],
      "source": [
        "clf, X, y = run_perceptron_defaults('banknote_authentication.arff')\n",
        "\n",
        "# print your accuracy and weights. Do not enter these values by hand.\n",
        "print(clf.coef_)        # final weights\n",
        "print(clf.intercept_)   # final bias weight\n",
        "print(clf.score(X, y))  # accuracy"
      ]
    },
    {
      "cell_type": "markdown",
      "metadata": {
        "id": "U-4J5VcS9umq"
      },
      "source": [
        "*Discussion:\n",
        "- I decided to create a method run_perceptron_defaults with the same settings from part 1.1. I put it above 1.1 to avoid duplicate code.\n",
        "- It starts by creating a Perceptron object to run the algorithm. This object comes from the Scikit-Learn Python library. Arguments include disabling shuffling, whichimportant becasue to get deterministic results - for testing. Verbose is set to 1 which prints an output summary of training after each Epoch. eta0 is set to 0.1 which is the learning rate. max_iter is set to 10, so the algorithm will run for 10 epochs, regardless of whether is is done training or not.\n",
        "- Next, we load the arff file using the Scikit-Learn loadarff method. We then convert it to a Pandas dataframe. Note that the argument passed to pd.DataFrame uses index 0, which is the index of an arff object that contains the data (while index 1 contains the metadata). Next, we convert the set to a NumPy array, and convert the data to floats.\n",
        "- Next, we extract the X (input values), and y (target values). The syntax [:, :-1] retrieves every row, and all but the last column, which are the input values. The syntax [:, -1] retrieves every row, and just the last column, which is the target values.\n",
        "- clf.fit(X, y) is what actually runs the alrogithm on the Perceptron object we created before loading the arff file.\n",
        "- Finally, the function returns the trained Perceptron classifier object, as well as X and y.\n",
        "- After returning from the function, we print the final weights, final bias weight, and the accuracy.\n",
        "- We can see that the final accuracy was 97.67%, so after training, performance on specifically the data it was trained on was almost perfect. I imagine that the fact that it didn't quite achieve 100% accuracy has to do with two things. First it considers convergence within a threshhold. Second, I imagine that the banknote data isn't 100% linearly seperable, so the small outliers also cause the accuracy to drop some."
      ]
    },
    {
      "cell_type": "markdown",
      "metadata": {
        "id": "9vWiTdlbR2Xh"
      },
      "source": [
        "## 2. Classifying on linearly separable and non-linearly separable data\n",
        "\n",
        "### 2.1 (5%) Create 2 datasets\n",
        "\n",
        "- Both with 8 instances using 2 real valued inputs with 4 instances from each class.\n",
        "- One data set should be linearly separable and the other not.\n",
        "- Show or print your datasets"
      ]
    },
    {
      "cell_type": "code",
      "execution_count": null,
      "metadata": {
        "id": "4SSoasDQSKXb"
      },
      "outputs": [],
      "source": [
        "# Create and show the 2 datasets.\n",
        "# You could do it here in Python or create arff files in your local folder with a text editor.  Either way show your dataset.\n",
        "\n",
        "# (1) linearly seperable (by y = -x + 4)\n",
        "X1 = np.array([[0,0],[0,3],[1,2],[3,0],[0,5],[2,3],[3,2],[5,0]])\n",
        "y1 = np.array([0,0,0,0,1,1,1,1])\n",
        "\n",
        "#(2) NOT linearly seperable (same as above EXCEPT 0,0 yields 1 so it is no longer seperable)\n",
        "X2 = np.array([[0,0],[0,3],[1,2],[3,0],[0,5],[2,3],[3,2],[5,0]])\n",
        "y2 = np.array([1,0,0,0,1,1,1,1])"
      ]
    },
    {
      "cell_type": "markdown",
      "source": [
        "Discussion:\n",
        "- I created the two datasets to be mostly the same except the second dataset was modified to have a single point (0, 0) make it no longer linearly seperable. The first dataset could be separated by the line y = -x + 4. But in the second, that separation no longer works because I make the (0, 0) yield 1."
      ],
      "metadata": {
        "id": "h2zmBUYt8CTY"
      }
    },
    {
      "cell_type": "markdown",
      "metadata": {
        "id": "SIRG42TgSR4x"
      },
      "source": [
        "### 2.2 (5%) Train on both sets using the scikit-learn perceptron model\n",
        "- Train on each and print the results. Train until convergence (i.e. use the default max_iter by simply not specifying it).\n",
        "- You may choose your other hyperparameters."
      ]
    },
    {
      "cell_type": "code",
      "source": [
        "def run_perceptron_no_max_iter(X: ndarray, y: ndarray) -> None:\n",
        "  clf = Perceptron(shuffle=True, verbose=1, eta0=0.01)\n",
        "\n",
        "  # train on the evaluation data\n",
        "  clf.fit(X, y)\n",
        "\n",
        "  print(clf.coef_)        # final weights\n",
        "  print(clf.intercept_)   # final bias weight\n",
        "  print(clf.score(X, y))  # accuracy"
      ],
      "metadata": {
        "id": "o1sD8G4I8jqo"
      },
      "execution_count": null,
      "outputs": []
    },
    {
      "cell_type": "code",
      "execution_count": null,
      "metadata": {
        "id": "KBGUn43ASiXW",
        "colab": {
          "base_uri": "https://localhost:8080/"
        },
        "outputId": "3c4b1f5a-b55f-4d24-ac45-e88e45372d9a"
      },
      "outputs": [
        {
          "output_type": "stream",
          "name": "stdout",
          "text": [
            "Running with linearly seperable data\n",
            "-- Epoch 1\n",
            "Norm: 0.01, NNZs: 2, Bias: -0.020000, T: 8, Avg. loss: 0.046250\n",
            "Total training time: 0.00 seconds.\n",
            "-- Epoch 2\n",
            "Norm: 0.05, NNZs: 1, Bias: -0.020000, T: 16, Avg. loss: 0.020000\n",
            "Total training time: 0.00 seconds.\n",
            "-- Epoch 3\n",
            "Norm: 0.06, NNZs: 2, Bias: -0.020000, T: 24, Avg. loss: 0.032500\n",
            "Total training time: 0.01 seconds.\n",
            "-- Epoch 4\n",
            "Norm: nan, NNZs: 1, Bias: -0.050000, T: 32, Avg. loss: 0.028750\n",
            "Total training time: 0.01 seconds.\n",
            "-- Epoch 5\n",
            "Norm: 0.03, NNZs: 2, Bias: -0.050000, T: 40, Avg. loss: 0.036250\n",
            "Total training time: 0.01 seconds.\n",
            "-- Epoch 6\n",
            "Norm: 0.04, NNZs: 2, Bias: -0.060000, T: 48, Avg. loss: 0.025000\n",
            "Total training time: 0.01 seconds.\n",
            "-- Epoch 7\n",
            "Norm: 0.03, NNZs: 2, Bias: -0.070000, T: 56, Avg. loss: 0.016250\n",
            "Total training time: 0.01 seconds.\n",
            "-- Epoch 8\n",
            "Norm: 0.03, NNZs: 2, Bias: -0.070000, T: 64, Avg. loss: 0.000000\n",
            "Total training time: 0.01 seconds.\n",
            "-- Epoch 9\n",
            "Norm: 0.03, NNZs: 2, Bias: -0.070000, T: 72, Avg. loss: 0.000000\n",
            "Total training time: 0.01 seconds.\n",
            "-- Epoch 10\n",
            "Norm: 0.03, NNZs: 2, Bias: -0.070000, T: 80, Avg. loss: 0.000000\n",
            "Total training time: 0.01 seconds.\n",
            "-- Epoch 11\n",
            "Norm: 0.03, NNZs: 2, Bias: -0.070000, T: 88, Avg. loss: 0.000000\n",
            "Total training time: 0.01 seconds.\n",
            "-- Epoch 12\n",
            "Norm: 0.03, NNZs: 2, Bias: -0.070000, T: 96, Avg. loss: 0.000000\n",
            "Total training time: 0.01 seconds.\n",
            "-- Epoch 13\n",
            "Norm: 0.03, NNZs: 2, Bias: -0.070000, T: 104, Avg. loss: 0.000000\n",
            "Total training time: 0.01 seconds.\n",
            "Convergence after 13 epochs took 0.01 seconds\n",
            "[[0.02 0.02]]\n",
            "[-0.07]\n",
            "1.0\n",
            "Running with NON linearly seperable data\n",
            "-- Epoch 1\n",
            "Norm: 0.05, NNZs: 2, Bias: -0.010000, T: 8, Avg. loss: 0.025000\n",
            "Total training time: 0.00 seconds.\n",
            "-- Epoch 2\n",
            "Norm: 0.04, NNZs: 2, Bias: 0.000000, T: 16, Avg. loss: 0.043750\n",
            "Total training time: 0.00 seconds.\n",
            "-- Epoch 3\n",
            "Norm: 0.05, NNZs: 2, Bias: 0.000000, T: 24, Avg. loss: 0.033750\n",
            "Total training time: 0.00 seconds.\n",
            "-- Epoch 4\n",
            "Norm: 0.01, NNZs: 2, Bias: -0.010000, T: 32, Avg. loss: 0.047500\n",
            "Total training time: 0.01 seconds.\n",
            "-- Epoch 5\n",
            "Norm: 0.01, NNZs: 2, Bias: -0.010000, T: 40, Avg. loss: 0.027500\n",
            "Total training time: 0.01 seconds.\n",
            "-- Epoch 6\n",
            "Norm: 0.01, NNZs: 2, Bias: -0.010000, T: 48, Avg. loss: 0.033750\n",
            "Total training time: 0.01 seconds.\n",
            "Convergence after 6 epochs took 0.01 seconds\n",
            "[[0.01 0.01]]\n",
            "[-0.01]\n",
            "0.5\n"
          ]
        }
      ],
      "source": [
        "# Train and print results with both datasets\n",
        "print(\"Running with linearly seperable data\")\n",
        "run_perceptron_no_max_iter(X1, y1)\n",
        "\n",
        "print(\"Running with NON linearly seperable data\")\n",
        "run_perceptron_no_max_iter(X2, y2)"
      ]
    },
    {
      "cell_type": "markdown",
      "metadata": {
        "id": "890A39KX9zLC"
      },
      "source": [
        "*Discussion*\n",
        "- I trained the model using each of my custom datasets, modified the parameters. I didn't use a max_iter, so it defaulted to 1,000, and I set shuffle to True so it would shuffle the data in between each epoch. Additionally, I initially had the learning rate set to 0.1, but I noticed that my linearly seperable dataset wasn't achieving 100% accuracy for linearly-seperable data. I then narrowed it down to 0.01, and that did the trick.\n",
        "- The results are as expected. When the model was trained on linearly-seperable data, it achieved 100% accuracy when tested. Something that is important to note is that this won't always be the case, but since my training data was the same as the testing data, the model had been perfectly trained for the data it was tested on and was able to perform perfectly.\n",
        "- For the non-linearly seperable data, the accuracy was only 50%, which means as good as flipping a coin. Poor accuracy was expected because the line derived by the weights after training can't possibly devide the data into two categories. However, the reason that it wasn't at least a little better than this is discussed (probably because a local maxima was found) in 2.3 after revealing the graphs.\n",
        "- Looking at the final weights, it is interesting that the final bias weight for the linearly seperable dataset was shifted more than the other weights. I imagine this is due to the fact that the bias was throwing off the perceptron quite a bit at the beginning, so required significant adjustment, while the two regular weights were each adjusted by only 0.02 meaning that the two inputs had a fairly even impact in making an accurate prediction."
      ]
    },
    {
      "cell_type": "markdown",
      "metadata": {
        "id": "v19fpixqTe-7"
      },
      "source": [
        "### 2.3 (10%) Graph the datasets and their corresponding decision line\n",
        "\n",
        " - Graph each dataset\n",
        " - Use your trained perceptrons above to determine each dataset's decision line\n",
        "    - We discssed how to find the slope and intercept in class and the equation is in the Perceptron slides\n",
        " - For all graphs always label the axes!\n",
        " - Following are examples of what graphs could look like\n",
        "\n",
        "![Linearly Separable Data](https://raw.githubusercontent.com/rmorain/CS472-1/master/images/perceptron/linearly_separable.png)\n",
        "\n",
        "![Not Linearly Separable](https://raw.githubusercontent.com/rmorain/CS472-1/master/images/perceptron/not_linearly_separable.png)"
      ]
    },
    {
      "cell_type": "code",
      "execution_count": null,
      "metadata": {
        "colab": {
          "base_uri": "https://localhost:8080/",
          "height": 472
        },
        "id": "8l64tZUqCEwy",
        "outputId": "d8263524-b656-4c83-cb6d-ad91bcfcd9c5"
      },
      "outputs": [
        {
          "output_type": "display_data",
          "data": {
            "text/plain": [
              "<Figure size 640x480 with 1 Axes>"
            ],
            "image/png": "[encoded data removed]"
          },
          "metadata": {}
        }
      ],
      "source": [
        "# Sample Graph code, You can use any graphing approach you want including this one.\n",
        "# We encourage you to use matplotlib.\n",
        "import matplotlib.pyplot as plt\n",
        "\n",
        "# The data in this example is made up.  You will use your real data.\n",
        "data = np.array([[-.9,-.9],[-.6,.6],[-.3,.3],[-.1,.1],[.1,.456],[.3,-.324],[.6,.778],[.9,-.76]])\n",
        "labels = np.array([0,0,0,0,1,1,1,1])\n",
        "\n",
        "# Create a scatter plot of data\n",
        "plt.xlim(-1,1)\n",
        "plt.ylim(-1,1)\n",
        "scatter = plt.scatter(data[:,0], data[:,1], c = labels, s=200, cmap='seismic')\n",
        "legend = plt.legend(*scatter.legend_elements(num=1), title=\"Class\", loc='upper right') # Legend\n",
        "\n",
        "# Plot the learned separator.  We just made up the slope and intercept for this example. You need to calculate\n",
        "# the correct slope and intercept using your learned weights and bias.\n",
        "xlist = np.linspace(-1.0, 1.0, 100) # create 100 evenly spaced points between -1 and 1 for the x axis\n",
        "ylist = np.linspace(-1.0, 1.0, 100) # create 100 evenly spaced points between -1 and 1 for the y axis\n",
        "slope = -2  # made up\n",
        "intercept = 0.1 # made up\n",
        "eq = slope*xlist + intercept\n",
        "plt.plot(xlist,  eq, '-k', )\n",
        "plt.title('Linearly Separable Data Example')\n",
        "plt.xlabel('x')\n",
        "plt.ylabel('y')\n",
        "plt.grid() # add grid lines\n",
        "plt.show() # show the plot"
      ]
    },
    {
      "cell_type": "code",
      "execution_count": null,
      "metadata": {
        "id": "ZCPFUAGTS2sX"
      },
      "outputs": [],
      "source": [
        "# Graph datasets and decision lines for both cases.\n",
        "\n",
        "'''\n",
        "MATH:\n",
        "x2 = (-w1/w2)x1 + -bias/w2\n",
        "Y = MX + B\n",
        "so M = (-w1/w2) and B = -bias/w2 (bias referres to the final bias weight)\n",
        "'''\n",
        "def graph(data: ndarray, labels: ndarray, w1: float, w2: float, bias: float, title: str): # bias is final bias weight\n",
        "  # Create a scatter plot of data\n",
        "  plt.xlim(0,6)\n",
        "  plt.ylim(0,6)\n",
        "  scatter = plt.scatter(data[:,0], data[:,1], c = labels, s=200, cmap='seismic')\n",
        "  legend = plt.legend(*scatter.legend_elements(num=1), title=\"Class\", loc='upper right')\n",
        "\n",
        "  # Plot the learned separator.\n",
        "  xlist = np.linspace(-1.0, 4.0, 100) # create 100 evenly spaced points between -1 and 1 for the x axis\n",
        "  ylist = np.linspace(-1.0, 4.0, 100) # create 100 evenly spaced points between -1 and 1 for the y axis\n",
        "  slope = -w1/w2        # computed above\n",
        "  intercept = -bias/w2  # computed above\n",
        "  eq = slope*xlist + intercept\n",
        "  plt.plot(xlist,  eq, '-k', )\n",
        "  plt.title(title)\n",
        "  plt.xlabel('x')\n",
        "  plt.ylabel('y')\n",
        "  plt.grid() # add grid lines\n",
        "  plt.show() # show the plot\n"
      ]
    },
    {
      "cell_type": "code",
      "source": [
        "# linearly separable weights: [[0.02 0.02]], and bias: [-0.07]\n",
        "graph(data=X1, labels=y1, w1=0.02, w2=0.02, bias=-0.07, title='Linearly Separable Data Example')\n",
        "\n",
        "# non-linearly separable weights: [[0.01 0.01]], and bias: [-0.01]\n",
        "graph(data=X2, labels=y2, w1=0.01, w2=0.01, bias=-0.01, title='Non-linearly Separable Data Example')"
      ],
      "metadata": {
        "colab": {
          "base_uri": "https://localhost:8080/",
          "height": 927
        },
        "id": "Mcc_MLuEMRkN",
        "outputId": "fae97de1-f59d-4c4f-d41e-28e47ac75a2f"
      },
      "execution_count": null,
      "outputs": [
        {
          "output_type": "display_data",
          "data": {
            "text/plain": [
              "<Figure size 640x480 with 1 Axes>"
            ],
            "image/png": "[encoded data removed]"
          },
          "metadata": {}
        },
        {
          "output_type": "display_data",
          "data": {
            "text/plain": [
              "<Figure size 640x480 with 1 Axes>"
            ],
            "image/png": "[encoded data removed]"
          },
          "metadata": {}
        }
      ]
    },
    {
      "cell_type": "markdown",
      "metadata": {
        "id": "M7dyHR0c92zd"
      },
      "source": [
        "*Discussion*\n",
        "- To derive the slope and y-intercept, I did the following math. We know that `x2 = (-w1/w2)x1 + -bias/w2`, and that this cooresponds to `Y = MX + B`. Therefore, we can extract M and B to be `(-w1/w2)` and `-bias/w2`, respectively. Note that bias referres to the final bias weight rather than the starting bias value.\n",
        "- Graphing the data was fairly insightful. For the linearly separable data, the resulting line was as I predicted. Since the data was linearly separable, the line perfectly divides the two classes. Of course, if there were more data points, this line may have been adjusted even further.\n",
        "- The non-linearly separable line was even more insightful. Looking at it, you can see that it simply divides the first red dot at 0, 0 from the line of blue dots. It would have been more accurate if the line instead moved upward to divide the line of three blue dots from the line of four red dots. However, I believe what happened was that a local maxima was found, and the algorithm wasn't able to make the jump over the blue dots.\n",
        "  - A potential strategy to resolve this issue would by to use a varying learning rate. It would be good to start with a big learning rate, and then narrow it as time goes on. This is a common solution for avoiding local maxima and finding a better maxima to then exploit."
      ]
    },
    {
      "cell_type": "markdown",
      "metadata": {
        "id": "_N5RXV8AzdRF"
      },
      "source": [
        "### 2.4 (5%) Discuss why perceptrons in general will not get perfect accuracy on non-linearly separable data"
      ]
    },
    {
      "cell_type": "markdown",
      "metadata": {
        "id": "0hSjHuLdzdRF"
      },
      "source": [
        "*Discussion*\n",
        "- Perceptrons typically won't get perfect accuracy on non-linearly separable data because of the nature of linear separability. The idea is to be able to draw a line between the two classes. Everything on one side of the line is class A, and the other side contains class B. However, if it isn't linearly separable, it means that it is impossible to draw a line between the two. No matter where you draw a line, at least one point will be on the side of the other class.\n",
        "- The example graph above is a good example of this. Since a single red dot appears to the left of the line of blue dots, the Perceptron was unable to create a line to perfectly divide the red and blue dots, so accuracy was poor.\n",
        "- In some cases, you can still get fairly good accuracy, when the line divides the classes in a distribution that is \"good enough\". What is \"good enough\" depends on the use case, though in every case, the goal is to have a better division that what would just be random.\n",
        "- It is also sometimes possible to use different features that better promote linear separability. If the current input features aren't yielding linear separability, another set may be better."
      ]
    },
    {
      "cell_type": "markdown",
      "metadata": {
        "id": "0ySvhd1lUGSe"
      },
      "source": [
        "## 3. Use the perceptron to learn this version of the [voting data set](https://raw.githubusercontent.com/cs472ta/CS472/master/datasets/voting-dataset.arff)\n",
        "\n",
        "This particular task is an edited version of the standard voting set, where we have replaced all the “don’t know” values with the most common value for the particular attribute. Look at the [tutorial](https://github.com/cs472ta/CS472/blob/master/Tutorial.ipynb) from the Labs Content page to see examples of prepping the voting data set for sklearn.\n",
        "\n",
        "### 3.1 (10%) Average final training and test set accuracy over multiple trials\n",
        "\n",
        "- Learn the voting data five times with different random 70/30 Training/Test splits each time\n",
        "- Use a learning rate of 1.  The other hyperparameters are up to you.\n",
        "- Report the 5 trials and the average training and test accuracy and number of epochs to converge across the 5 trials in a table\n",
        "    - Below is an example of what a 2 trial table might look like\n",
        "\n",
        "| Trial | Training Accuracy | Test accuracy | Number of epochs |\n",
        "| --- | --- | --- | --- |\n",
        "| 1 | .950 | .550 | 4 |\n",
        "| 2 | .850 | .450 | 6 |\n",
        "| Average | .900 | .500 | 5 |\n",
        "\n",
        "*- As a rough sanity check, typical Perceptron test accuracies for the voting data set are 90%-98%.*\n"
      ]
    },
    {
      "cell_type": "code",
      "source": [
        "def load_data(file_name: str) -> Tuple[ndarray, ndarray]:\n",
        "  Data_Set = arff.loadarff(file_name)\n",
        "  Data_Set_df = pd.DataFrame(Data_Set[0])\n",
        "  Data_Set_np = Data_Set_df.to_numpy()\n",
        "  X = Data_Set_np[:, :-1]\n",
        "  y = Data_Set_np[:, -1]\n",
        "  X = np.where(X == b'y', 1, 0) # n: 0, y: 1\n",
        "  y = np.where(y == b'republican', 1, 0) # democrat: 0, republican: 1\n",
        "\n",
        "  return X, y"
      ],
      "metadata": {
        "id": "yFxhJCo4e2HC"
      },
      "execution_count": 88,
      "outputs": []
    },
    {
      "cell_type": "code",
      "execution_count": 89,
      "metadata": {
        "id": "Romyl4G8Trki",
        "colab": {
          "base_uri": "https://localhost:8080/"
        },
        "outputId": "02290c82-db45-407e-9628-f0e384a33fd8"
      },
      "outputs": [
        {
          "output_type": "stream",
          "name": "stdout",
          "text": [
            "Trial      Training Accuracy    Test Accuracy    Number of Epochs\n",
            "-------  -------------------  ---------------  ------------------\n",
            "1                   0.947205         0.913669                   9\n",
            "2                   0.968944         0.935252                  10\n",
            "3                   0.968944         0.942446                   9\n",
            "4                   0.97205          0.935252                  15\n",
            "5                   0.950311         0.928058                   7\n",
            "Average             0.961491         0.930935                  10\n"
          ]
        }
      ],
      "source": [
        "# Run the perceptron 5 times on the voting data set with different splits and record the results.\n",
        "# Hint: look up scikit-learn train_test_split\n",
        "# Create the table using the tool of your choice\n",
        "\n",
        "# load data\n",
        "X, y = load_data('voting-dataset.arff')\n",
        "\n",
        "# run Perceptron 5 times\n",
        "table = []\n",
        "for i in range(1, 6):\n",
        "  X_train, X_test, y_train, y_test = train_test_split(X, y, test_size=0.30) # split data\n",
        "  clf = Perceptron(shuffle=True, verbose=0, eta0=1) # initialize Perceptron\n",
        "  clf.fit(X_train, y_train) # train\n",
        "\n",
        "  table.append([i, clf.score(X_train, y_train), clf.score(X_test, y_test), clf.n_iter_])\n",
        "\n",
        "# add row of averages\n",
        "averages = [\"Average\", 0, 0, 0]\n",
        "for i in range(len(table)):\n",
        "  for j in range(1, 4):\n",
        "    averages[j] += table[i][j]\n",
        "for i in range(1, 4):\n",
        "  averages[i] /= len(table)\n",
        "table.append(averages)\n",
        "\n",
        "# print table\n",
        "headers = [\"Trial\", \"Training Accuracy\", \"Test Accuracy\", \"Number of Epochs\"]\n",
        "print(tabulate(table, headers=headers))"
      ]
    },
    {
      "cell_type": "markdown",
      "source": [
        "Discussion:\n",
        "- A more thorough discussion of this data is in point 3.2 (just below this).\n",
        "- The results seem fairly as expected. I split the data to use 30% for testing and 70% with training. The chart shows that scoring with the training data averaged ~96% accuracy, while scoring with the test set averaged ~93%. In each trial, the Perceptron was trained on none of the test set, so it wasn't guaranteed that the test values had been taken into account. Therefore, scoring with test data averaged ~3% loss in accuracy. In a real-world scenario, the accuracy is more likely to follow the ~93% accuracy score from the test set."
      ],
      "metadata": {
        "id": "SPls2iQkTU5d"
      }
    },
    {
      "cell_type": "markdown",
      "metadata": {
        "id": "cm4rbWkzVeoR"
      },
      "source": [
        "### 3.2 (10%) Interpreting the Model\n",
        "- Learn with the perceptron once on the full voting data set\n",
        "- Look at the learned weights and bias and do your best to explain what the model has learned and how the individual input features affect the result.\n",
        "- Which specific features are most critical for the voting task, and which are least critical?"
      ]
    },
    {
      "cell_type": "code",
      "execution_count": 15,
      "metadata": {
        "id": "_vfAfrao5fJO",
        "colab": {
          "base_uri": "https://localhost:8080/"
        },
        "outputId": "368f7f01-d0d3-4a9d-f2f6-fcdbc890bb24"
      },
      "outputs": [
        {
          "output_type": "stream",
          "name": "stdout",
          "text": [
            "[[  0.  -3.  -8.  17.   4.  -2.   5.   6.  -7.   5. -10.  -1.  -1.   0.\n",
            "   -4.   5.]]\n",
            "[-9.]\n"
          ]
        }
      ],
      "source": [
        "#Learn once on the full voting data set.  If you Look at our tutorial at the beginning\n",
        "X, y = load_data('voting-dataset.arff') # load data\n",
        "clf = Perceptron(shuffle=True, verbose=0, eta0=1) # initialize Perceptron\n",
        "clf.fit(X, y) # train\n",
        "\n",
        "print(clf.coef_)        # final weights\n",
        "print(clf.intercept_)   # final bias weight\n"
      ]
    },
    {
      "cell_type": "markdown",
      "metadata": {
        "id": "S0C0t7ps5fJO"
      },
      "source": [
        "Discuss how the different features effect prediction:  \n",
        "[[  0.  -3.  -8.  17.   4.  -2.   5.   6.  -7.   5. -10.  -1.  -1.   0.\n",
        "   -4.   5.]]  \n",
        "[-9.]\n",
        "- Printing the clf.coef_ yields the final weights, and printing the clf.intercept_ yields the final bias weight. There are 16 variables plus the bias weight.\n",
        "- There are a couple of important things to look at when looking at the final weight:\n",
        "  - The magnitude (absolute value) tells us how important that the weight was in determining the classification. For example, the 4th weight cooresponds to `physician-fee-freeze`, and has the highest magnitude of all the weights. This means that an individual's take on that issue is very impactful for determining if they are Democrat or Republican. The 11th issue is `synfuels-corporation-cutback`, and has a weight of -10. The magnitude of that is 10, and it has the 2nd highest magnitude. This means that it was also very important. The first weight cooresponds to `handicapped-infants`, and since its weight is 0, it means that this is not a strong deciding factor for being a Republican or a Democrat. This suggests that both parties have similar views on this issue. The 14th attribute is `crime`, and since it also has a weight of 0, it succests that the view on crime is also not particularly helpful for classifying an individual's political party. The bias has a magnitude of 9 (third largest), so it suggests that this is leaning the decision in one direction quite a bit. I will discuss which direction in the next paragraph.\n",
        "  - The direction (positive or negative) also tells a lot about the importance of the input. If the weight is positive, having the attribute makes the individual more likely to be of classification 1 (Republican), and vice versa with a negative value making the individual more likely to be a 0 (Democrat). Going back to the examples from the last point, since the weight cooresponding to `physician-fee-freeze` is positive, having this position makes the individual more likely to be a Republican, but since the weight for `synfuels-corporation-cutback` is negative, having this position makes the individual more likely to be a Democrat. The same concept applies to all the other weights. Since the bias is in the negative direction, it is biasing the data moreso towards the Democrat classification."
      ]
    },
    {
      "cell_type": "markdown",
      "metadata": {
        "id": "NyUmJ4yWVsQ7"
      },
      "source": [
        "### 3.3 (15%) Misclassification rate vs epochs\n",
        "\n",
        "Learn with the perceptron once on the full voting data set and graph the misclassification rate (number_misclassified  /  number_of_total_data_points) at each epoch until convergence (0th – final epoch).  Hints:\n",
        "- For the 0th epoch (i.e. initial weights), assume the initial misclassification rate is 66% and let that be the first point on your graph. Since there are 2 output classes, random guessing would only get it right about 1/2 of the time. Missclassifcation rate is 1 - accuracy.\n",
        "- Doing clf.fit with max_iter = 1, and warm_start=True will let you loop through epochs one at a time, allowing you to look at accuracy, etc. after each epoch.  But how do you know how many epochs to run until convergence?  One way is to just to first run it until convergence with random_state = c to see how many epochs it took (n_iter_).  Then run it again one epoch at a time n_iter_ times using the same random_state constant c (so that you get the exact same conditions).\n",
        "- Below is a rough example of what this type of graph might look like (though this graph is for avg rate across multiple trials)\n",
        "\n",
        "![Average Misclassification Rate](https://raw.githubusercontent.com/rmorain/CS472-1/master/images/perceptron/avg_misclassification_rate_vs_epochs.png)"
      ]
    },
    {
      "cell_type": "code",
      "execution_count": 16,
      "metadata": {
        "id": "2_ZRPWWVVeFM"
      },
      "outputs": [],
      "source": [
        "# Learn once on the full voting data set, while gathering info after every epoch\n",
        "# Then Graph it here.  Here is some sample graph code, but you can do it your own way, including using a bar graph, etc.\n",
        "\n",
        "def plot_misclassification(misclassification_rate):\n",
        "    \"\"\"\n",
        "        Plots the misclassification rate\n",
        "    Args:\n",
        "        misclassification_rate (array-like): A 1D array or list of missclassifcation rate at every epoch\n",
        "    \"\"\"\n",
        "    plt.plot(np.arange(len(misclassification_rate)), misclassification_rate)\n",
        "    plt.title(\"Misclassification Rate vs. Epoch\")\n",
        "    plt.xlabel(\"Epoch\")\n",
        "    plt.ylabel(\"Misclassification Rate\")\n",
        "    plt.show()\n",
        "\n",
        "def get_num_epochs(X: ndarray, y: ndarray, seed: int, learning_rate: float, shuffle: bool) -> int:\n",
        "  clf = Perceptron(shuffle=True, verbose=0, eta0=learning_rate, random_state=seed) # initialize Perceptron\n",
        "  clf.fit(X, y)\n",
        "\n",
        "  return clf.n_iter_"
      ]
    },
    {
      "cell_type": "code",
      "source": [
        "X, y = load_data('voting-dataset.arff') # load data\n",
        "seed, learning_rate, shuffle = 7, 0.1, True\n",
        "n_epochs = get_num_epochs(X, y, seed, learning_rate, shuffle) # get # epochs (using seed)\n",
        "rates = [0.66]\n",
        "clf = Perceptron(shuffle=shuffle, verbose=0, eta0=learning_rate, max_iter=1, warm_start=True, random_state=seed)\n",
        "for i in range(n_epochs):\n",
        "  clf.fit(X, y)\n",
        "  rates.append(1.0 - clf.score(X, y))\n",
        "\n",
        "plot_misclassification(rates)"
      ],
      "metadata": {
        "colab": {
          "base_uri": "https://localhost:8080/",
          "height": 978
        },
        "id": "1LalMWshzy1x",
        "outputId": "919d7b21-308f-4851-cde5-93d0ffd3f0c1"
      },
      "execution_count": 20,
      "outputs": [
        {
          "output_type": "stream",
          "name": "stderr",
          "text": [
            "/usr/local/lib/python3.10/dist-packages/sklearn/linear_model/_stochastic_gradient.py:713: ConvergenceWarning: Maximum number of iteration reached before convergence. Consider increasing max_iter to improve the fit.\n",
            "  warnings.warn(\n",
            "/usr/local/lib/python3.10/dist-packages/sklearn/linear_model/_stochastic_gradient.py:713: ConvergenceWarning: Maximum number of iteration reached before convergence. Consider increasing max_iter to improve the fit.\n",
            "  warnings.warn(\n",
            "/usr/local/lib/python3.10/dist-packages/sklearn/linear_model/_stochastic_gradient.py:713: ConvergenceWarning: Maximum number of iteration reached before convergence. Consider increasing max_iter to improve the fit.\n",
            "  warnings.warn(\n",
            "/usr/local/lib/python3.10/dist-packages/sklearn/linear_model/_stochastic_gradient.py:713: ConvergenceWarning: Maximum number of iteration reached before convergence. Consider increasing max_iter to improve the fit.\n",
            "  warnings.warn(\n",
            "/usr/local/lib/python3.10/dist-packages/sklearn/linear_model/_stochastic_gradient.py:713: ConvergenceWarning: Maximum number of iteration reached before convergence. Consider increasing max_iter to improve the fit.\n",
            "  warnings.warn(\n",
            "/usr/local/lib/python3.10/dist-packages/sklearn/linear_model/_stochastic_gradient.py:713: ConvergenceWarning: Maximum number of iteration reached before convergence. Consider increasing max_iter to improve the fit.\n",
            "  warnings.warn(\n",
            "/usr/local/lib/python3.10/dist-packages/sklearn/linear_model/_stochastic_gradient.py:713: ConvergenceWarning: Maximum number of iteration reached before convergence. Consider increasing max_iter to improve the fit.\n",
            "  warnings.warn(\n",
            "/usr/local/lib/python3.10/dist-packages/sklearn/linear_model/_stochastic_gradient.py:713: ConvergenceWarning: Maximum number of iteration reached before convergence. Consider increasing max_iter to improve the fit.\n",
            "  warnings.warn(\n",
            "/usr/local/lib/python3.10/dist-packages/sklearn/linear_model/_stochastic_gradient.py:713: ConvergenceWarning: Maximum number of iteration reached before convergence. Consider increasing max_iter to improve the fit.\n",
            "  warnings.warn(\n",
            "/usr/local/lib/python3.10/dist-packages/sklearn/linear_model/_stochastic_gradient.py:713: ConvergenceWarning: Maximum number of iteration reached before convergence. Consider increasing max_iter to improve the fit.\n",
            "  warnings.warn(\n",
            "/usr/local/lib/python3.10/dist-packages/sklearn/linear_model/_stochastic_gradient.py:713: ConvergenceWarning: Maximum number of iteration reached before convergence. Consider increasing max_iter to improve the fit.\n",
            "  warnings.warn(\n",
            "/usr/local/lib/python3.10/dist-packages/sklearn/linear_model/_stochastic_gradient.py:713: ConvergenceWarning: Maximum number of iteration reached before convergence. Consider increasing max_iter to improve the fit.\n",
            "  warnings.warn(\n",
            "/usr/local/lib/python3.10/dist-packages/sklearn/linear_model/_stochastic_gradient.py:713: ConvergenceWarning: Maximum number of iteration reached before convergence. Consider increasing max_iter to improve the fit.\n",
            "  warnings.warn(\n",
            "/usr/local/lib/python3.10/dist-packages/sklearn/linear_model/_stochastic_gradient.py:713: ConvergenceWarning: Maximum number of iteration reached before convergence. Consider increasing max_iter to improve the fit.\n",
            "  warnings.warn(\n"
          ]
        },
        {
          "output_type": "display_data",
          "data": {
            "text/plain": [
              "<Figure size 640x480 with 1 Axes>"
            ],
            "image/png": "[encoded data removed]"
          },
          "metadata": {}
        }
      ]
    },
    {
      "cell_type": "markdown",
      "metadata": {
        "id": "PgqUrgh--GeU"
      },
      "source": [
        "*Show table and discuss*\n",
        "- The process to create the graph was fairly simple. I created a function called get_num_epochs() which returns the number of epochs for the Perceptron to run to convergence. I then run a new Perceptron, one epoch at a time, and add the resulting error to a list that is used to create the graph. To ensure that both Perceptrons (the one to count epochs, and the one to iterate through epochs one at a time), I use the random_state parameter and set both to the same value. In this case, I set the seed to 7. I use te warm_start, and max_iter parameters to allow iterating through the results one at a time.\n",
        "- The results are fairly as predicted. After the first epoch, you can see that the error rate improved significantly. It is interesting to note that after the first epoch, the misclassificate rate jumps up and down quite a bit, and doesn't really improve. My hypothesis on why that happens is that there are a couple of factors. First, I am using the same set of data for both training and testing. Due to this, even after the first iteration, the misclassification rate is low because every test point has already been seen during training. There are no new training sets that the Perceptron has to account for during future iterations. In epochs after the first, the training dataset is exactly the same, and while shuffle is set to true, there's not a whole lot of variety to allow it to really improve. I believe that is why, as it converges, it really doesn't become more accurate. If I had used cross validation or random validation, I believe that this would have seen more steady improvement due to more variety between training epochs."
      ]
    },
    {
      "cell_type": "markdown",
      "metadata": {
        "id": "BDDb1DKi5fJP"
      },
      "source": [
        "### 3.4 (15%) Hyperparameters\n",
        "Read over all the Hyperparameters and their defaults in the scikit [perceptron documentation](https://scikit-learn.org/stable/modules/generated/sklearn.linear_model.Perceptron.html). With the voting data set, experiment briefly with EACH of the following 6 hyperparameters and discuss your findings.\n",
        "- shuffle\n",
        "- eta0 - learning rate\n",
        "- verbose\n",
        "- fit_intercept - whether to use a bias weight or not\n",
        "- random state\n",
        "- warm start"
      ]
    },
    {
      "cell_type": "code",
      "execution_count": 21,
      "metadata": {
        "id": "IhOAcDH85fJQ",
        "colab": {
          "base_uri": "https://localhost:8080/"
        },
        "outputId": "cdd105ff-783a-4d18-b948-bc8b7135ffbc"
      },
      "outputs": [
        {
          "output_type": "stream",
          "name": "stdout",
          "text": [
            "shuffle\n",
            "  True 1:\n",
            "     [[  0.  -3.  -8.  17.   4.  -2.   5.   6.  -7.   5. -10.  -1.  -1.   0.\n",
            "   -4.   5.]]\n",
            "     [-9.]\n",
            "     0.9609544468546638\n",
            "  True 2:\n",
            "     [[ 2. -3. -7. 19.  3. -2.  1.  5. -9.  2. -9.  1.  0.  0. -3.  6.]]\n",
            "     [-9.]\n",
            "     0.9674620390455532\n",
            "  False 1:\n",
            "     [[  0.  -3.  -8.  17.   4.  -2.   5.   6.  -7.   5. -10.  -1.  -1.   0.\n",
            "   -4.   5.]]\n",
            "     [-9.]\n",
            "     0.9609544468546638\n",
            "  False 2:\n",
            "     [[ 2. -3. -7. 19.  3. -2.  1.  5. -9.  2. -9.  1.  0.  0. -3.  6.]]\n",
            "     [-9.]\n",
            "     0.9674620390455532\n",
            "\n",
            "\n",
            "eta0\n",
            "  eta0=0.001:\n",
            "     [[-0.001 -0.001 -0.008  0.016  0.002 -0.002  0.005  0.007 -0.006  0.002\n",
            "  -0.008  0.001  0.001 -0.001 -0.005  0.002]]\n",
            "     [-0.006]\n",
            "     0.9631236442516269\n",
            "  eta0=0.01:\n",
            "     [[-0.02 -0.01 -0.07  0.15  0.02 -0.01  0.02  0.07 -0.07  0.02 -0.09  0.03\n",
            "   0.01  0.01 -0.04  0.04]]\n",
            "     [-0.05]\n",
            "     0.9457700650759219\n",
            "  eta0=0.1:\n",
            "     [[-1.00000000e-01 -2.00000000e-01 -8.00000000e-01  1.60000000e+00\n",
            "   2.00000000e-01 -3.00000000e-01  7.00000000e-01  6.00000000e-01\n",
            "  -7.00000000e-01  4.00000000e-01 -9.00000000e-01  1.00000000e-01\n",
            "  -2.77555756e-17  2.77555756e-17 -5.00000000e-01  5.00000000e-01]]\n",
            "     [-0.9]\n",
            "     0.9609544468546638\n",
            "  eta0=1:\n",
            "     [[  0.  -3.  -8.  17.   4.  -2.   5.   6.  -7.   5. -10.  -1.  -1.   0.\n",
            "   -4.   5.]]\n",
            "     [-9.]\n",
            "     0.9609544468546638\n",
            "  eta0=10:\n",
            "     [[   0.  -30.  -80.  170.   40.  -20.   50.   60.  -70.   50. -100.  -10.\n",
            "   -10.    0.  -40.   50.]]\n",
            "     [-90.]\n",
            "     0.9609544468546638\n",
            "\n",
            "\n",
            "verbose\n",
            "  verbose=0:\n",
            "     [[  0.  -3.  -8.  17.   4.  -2.   5.   6.  -7.   5. -10.  -1.  -1.   0.\n",
            "   -4.   5.]]\n",
            "     [-9.]\n",
            "     0.9609544468546638\n",
            "  verbose=1:\n",
            "-- Epoch 1\n",
            "Norm: 14.28, NNZs: 12, Bias: -2.000000, T: 461, Avg. loss: 0.305857\n",
            "Total training time: 0.00 seconds.\n",
            "-- Epoch 2\n",
            "Norm: 17.26, NNZs: 11, Bias: -3.000000, T: 922, Avg. loss: 0.308026\n",
            "Total training time: 0.00 seconds.\n",
            "-- Epoch 3\n",
            "Norm: 18.97, NNZs: 15, Bias: -5.000000, T: 1383, Avg. loss: 0.255965\n",
            "Total training time: 0.00 seconds.\n",
            "-- Epoch 4\n",
            "Norm: 20.90, NNZs: 15, Bias: -5.000000, T: 1844, Avg. loss: 0.203905\n",
            "Total training time: 0.01 seconds.\n",
            "-- Epoch 5\n",
            "Norm: 22.43, NNZs: 14, Bias: -7.000000, T: 2305, Avg. loss: 0.253796\n",
            "Total training time: 0.01 seconds.\n",
            "-- Epoch 6\n",
            "Norm: 23.17, NNZs: 16, Bias: -8.000000, T: 2766, Avg. loss: 0.208243\n",
            "Total training time: 0.01 seconds.\n",
            "-- Epoch 7\n",
            "Norm: 23.85, NNZs: 15, Bias: -8.000000, T: 3227, Avg. loss: 0.210412\n",
            "Total training time: 0.01 seconds.\n",
            "-- Epoch 8\n",
            "Norm: 25.22, NNZs: 15, Bias: -10.000000, T: 3688, Avg. loss: 0.234273\n",
            "Total training time: 0.01 seconds.\n",
            "-- Epoch 9\n",
            "Norm: 25.69, NNZs: 14, Bias: -9.000000, T: 4149, Avg. loss: 0.277657\n",
            "Total training time: 0.01 seconds.\n",
            "Convergence after 9 epochs took 0.01 seconds\n",
            "     [[  0.  -3.  -8.  17.   4.  -2.   5.   6.  -7.   5. -10.  -1.  -1.   0.\n",
            "   -4.   5.]]\n",
            "     [-9.]\n",
            "     0.9609544468546638\n",
            "\n",
            "\n",
            "fit_intercept\n",
            "  fit_intercept=True:\n",
            "     [[  0.  -3.  -8.  17.   4.  -2.   5.   6.  -7.   5. -10.  -1.  -1.   0.\n",
            "   -4.   5.]]\n",
            "     [-9.]\n",
            "     0.9609544468546638\n",
            "  fit_intercept=False:\n",
            "     [[-4. -6. -8. 15.  3. -5.  2.  5. -6.  4. -9.  0.  1. -3. -7.  0.]]\n",
            "     [0.]\n",
            "     0.93058568329718\n",
            "\n",
            "\n",
            "random_state\n",
            "  random_state=1:\n",
            "     [[-1. -3. -8. 15.  5. -1.  4.  7. -7.  4. -9. -1.  0. -1. -4.  2.]]\n",
            "     [-14.]\n",
            "     0.8937093275488069\n",
            "  random_state=2:\n",
            "     [[  0.  -4.  -5.  14.   4.  -2.   3.   5.  -6.   4. -11.   0.   1.   0.\n",
            "   -4.   3.]]\n",
            "     [-9.]\n",
            "     0.9457700650759219\n",
            "  random_state=2:\n",
            "     [[  0.  -4.  -5.  14.   4.  -2.   3.   5.  -6.   4. -11.   0.   1.   0.\n",
            "   -4.   3.]]\n",
            "     [-9.]\n",
            "     0.9457700650759219\n",
            "\n",
            "\n",
            "warm_start\n",
            "  warm_start=True - 1st run:\n",
            "     [[-2. -1. -6. 14.  4. -2.  4.  2. -3.  2. -8. -1. -1.  2. -1.  1.]]\n",
            "     [-4.]\n",
            "     0.9587852494577006\n",
            "  warm_start=True - 2nd run:\n",
            "     [[-2. -3. -8. 16.  5. -2.  4.  6. -6.  5. -7.  0. -1.  1. -4.  0.]]\n",
            "     [-6.]\n",
            "     0.9674620390455532\n",
            "  warm_start=True - 3rd run:\n",
            "     [[ -2.  -2.  -7.  18.   5.  -3.   6.   5.  -7.   3. -10.   0.   0.   1.\n",
            "   -4.   3.]]\n",
            "     [-7.]\n",
            "     0.9761388286334056\n",
            "  warm_start set to False - 4th run:\n",
            "     [[-2. -1. -6. 14.  4. -2.  4.  2. -3.  2. -8. -1. -1.  2. -1.  1.]]\n",
            "     [-4.]\n",
            "     0.9587852494577006\n"
          ]
        },
        {
          "output_type": "stream",
          "name": "stderr",
          "text": [
            "/usr/local/lib/python3.10/dist-packages/sklearn/linear_model/_stochastic_gradient.py:713: ConvergenceWarning: Maximum number of iteration reached before convergence. Consider increasing max_iter to improve the fit.\n",
            "  warnings.warn(\n",
            "/usr/local/lib/python3.10/dist-packages/sklearn/linear_model/_stochastic_gradient.py:713: ConvergenceWarning: Maximum number of iteration reached before convergence. Consider increasing max_iter to improve the fit.\n",
            "  warnings.warn(\n",
            "/usr/local/lib/python3.10/dist-packages/sklearn/linear_model/_stochastic_gradient.py:713: ConvergenceWarning: Maximum number of iteration reached before convergence. Consider increasing max_iter to improve the fit.\n",
            "  warnings.warn(\n",
            "/usr/local/lib/python3.10/dist-packages/sklearn/linear_model/_stochastic_gradient.py:713: ConvergenceWarning: Maximum number of iteration reached before convergence. Consider increasing max_iter to improve the fit.\n",
            "  warnings.warn(\n"
          ]
        }
      ],
      "source": [
        "# Run the model with different hyperparameters\n",
        "X, y = load_data('voting-dataset.arff') # load data\n",
        "\n",
        "\n",
        "def run(clf: Perceptron, name: str):\n",
        "  print(\"  \" + name + \":\")\n",
        "  clf.fit(X, y)\n",
        "  print(\"    \", clf.coef_)        # final weights\n",
        "  print(\"    \", clf.intercept_)   # final bias weight\n",
        "  print(\"    \", clf.score(X, y))  # accuracy\n",
        "\n",
        "\n",
        "# shuffle\n",
        "print(\"shuffle\")\n",
        "run(Perceptron(shuffle=True), \"True 1\")\n",
        "run(Perceptron(shuffle=False), \"True 2\")\n",
        "run(Perceptron(shuffle=True), \"False 1\")\n",
        "run(Perceptron(shuffle=False), \"False 2\")\n",
        "\n",
        "# eta0\n",
        "print(\"\\n\\neta0\")\n",
        "run(Perceptron(eta0=0.001), \"eta0=0.001\")\n",
        "run(Perceptron(eta0=0.01), \"eta0=0.01\")\n",
        "run(Perceptron(eta0=0.1), \"eta0=0.1\")\n",
        "run(Perceptron(eta0=1), \"eta0=1\")\n",
        "run(Perceptron(eta0=10), \"eta0=10\")\n",
        "\n",
        "# verbose\n",
        "print(\"\\n\\nverbose\")\n",
        "run(Perceptron(verbose=0), \"verbose=0\")\n",
        "run(Perceptron(verbose=1), \"verbose=1\")\n",
        "\n",
        "# fit_intercept\n",
        "print(\"\\n\\nfit_intercept\")\n",
        "run(Perceptron(fit_intercept=True), \"fit_intercept=True\")\n",
        "run(Perceptron(fit_intercept=False), \"fit_intercept=False\")\n",
        "\n",
        "# random_state\n",
        "print(\"\\n\\nrandom_state\")\n",
        "run(Perceptron(random_state=1, shuffle=True), \"random_state=1\")\n",
        "run(Perceptron(random_state=2, shuffle=True), \"random_state=2\")\n",
        "run(Perceptron(random_state=2, shuffle=True), \"random_state=2\")\n",
        "\n",
        "# warm_start\n",
        "print(\"\\n\\nwarm_start\")\n",
        "clf = Perceptron(warm_start=True, max_iter=3, random_state=1)\n",
        "run(clf, \"warm_start=True - 1st run\")\n",
        "run(clf, \"warm_start=True - 2nd run\")\n",
        "run(clf, \"warm_start=True - 3rd run\")\n",
        "clf.warm_start = False\n",
        "run(clf, \"warm_start set to False - 4th run\")\n"
      ]
    },
    {
      "cell_type": "markdown",
      "metadata": {
        "id": "9QKsqiQJ5fJQ"
      },
      "source": [
        "Discussion\n",
        "\n",
        "shuffle  \n",
        "- The shuffle parameter determines whether or not to shuffle the data in between each epoch during training. For my tests, I ran the Perceptron four times on the voting dataset, twice with shuffle set to True, and twice with it set to False. In this test, I noticed that the results varied from each training. I wasn't able to notice any patterns between shuffling vs not shuffling, but I believe this is due to my limited amount of tests. On problem 2.2, for running the Perceptron on linearly separable data, I noticed that shuffle did make a different. When I had it turned off, I was only able to achieve about 60% accuracy. However, when I turned it on, I achieved 100% accuracy, and that was expected because the data was linearly separable and the test set was the same as the training set.\n",
        "\n",
        "eta0  \n",
        "- The eta0 is the learning rate, which determines how quickly the algorithm learns with each set up inputs that it evaluates. For my experimentation, I tested the Perceptron on the voting dataset with eta0 values from 0.001 up to 10. It was interesting to see that each increase of the eta0 value by 10x also increased the weights on average by 10. This is however, fairly arbitrary, because the weights can be normalized. All the test sets performed about the same (~96%) and I believe that is due to the fact that the test set is relatively small. I thing that if there was a larger test set, adjusting the eta0 would make more of a difference in the final output.\n",
        "\n",
        "verbose  \n",
        "- verbose can be set to 0 or 1, and if it is a 1, it means that it will pring extra output after each epoch. The info is in this format:  \n",
        "`-- Epoch 1  \n",
        "Norm: 14.28, NNZs: 12, Bias: -2.000000, T: 461, Avg. loss: 0.305857  \n",
        "Total training time: 0.00 seconds.`  \n",
        "- The meaning of the parameters is explained above. As a summary of each parameter, Norm shows the sum of weight magnitudes in the current model. NNZs is the count of non-zero weight magnitudes in the current model but it doesn't include the bias. The Bias is the current bias weight. T is the number of weight updates that have been counted during training so far. Avg. loss is a specific measure of error, though I don't know exactly how it is calculated.\n",
        "\n",
        "fit_intercept\n",
        "- fit_intercept determines whether or not to include a bias term in the Perceptron. I ran two perceptrons, one with it on and one with it off. I'm not surprised that it made a difference, but I am surprised by how much of a difference having a bias made. With the bias, the accuracy was ~96%, and without, the accuracy was ~93%, which means that adding a bias term reduced the misclassification rate by half.\n",
        "\n",
        "random_state\n",
        "- random_state is essentially a seed for shuffling the inputs between epochs. To test this, I ran three Perceptrons, one with a random state of 1 and the other two with a random state of 2. The two with the same random state produced the exact same output, and the one with a unique random state produced unique results. This functionality is as expected.\n",
        "\n",
        "warm_start\n",
        "- when warm_start is true, it won't reset the state each time you call fit(). This means that you can partially train a Perceptron, pause to do evaluations, and continue training it later, including the ability to change out data. For my tests, I called fit() on a Perceptron 3 times with warm_start set to True, then set it to False and ran it again. For the first three calls, the results varied each time becasue the model continued to be refined. However, when I ran it the fourth time after setting warm_start to False, the results were the same as after the first call. This is because it reset the state before running for the fourth time."
      ]
    },
    {
      "cell_type": "markdown",
      "metadata": {
        "id": "mxssT08TzdRH"
      },
      "source": [
        "## 4 (15%) Use the perceptron to learn one other data set of your choice.  \n",
        "- The UC Irvine Data Repository is one great source, but you may get your data set from wherever you like, though it should be a real world task.\n",
        "- Report your results"
      ]
    },
    {
      "cell_type": "code",
      "execution_count": 19,
      "metadata": {
        "id": "hqPZLMf1zdRH"
      },
      "outputs": [],
      "source": [
        "# Load and Train on your dataset and report results\n",
        "def load_data(file_name: str) -> Tuple[ndarray, ndarray]:\n",
        "  # load csv file\n",
        "  with open('iris.csv', 'r') as f:\n",
        "    reader = csv.reader(f)\n",
        "    data = list(reader)\n",
        "\n",
        "  # convert to numby array, and extract X and y\n",
        "  data = np.array(data)\n",
        "  X = data[:, :-1]\n",
        "  y = data[:, -1:]\n",
        "  X = X.astype(float)\n",
        "  y = np.where(y == 'Iris-virginica', 1, 0)\n",
        "\n",
        "  return X, y"
      ]
    },
    {
      "cell_type": "code",
      "source": [
        "X, y = load_data('iris.csv')\n",
        "X_train, X_test, y_train, y_test = train_test_split(X, y, test_size=0.30) # split data\n",
        "clf = Perceptron(verbose=1, eta0=0.1, random_state=6)\n",
        "clf.fit(X_train, y_train)\n",
        "print(clf.coef_)        # final weights\n",
        "print(clf.intercept_)   # final bias weight\n",
        "print(clf.score(X_test, y_test))  # accuracy\n",
        "\n",
        "clf.fit(X, y)\n",
        "print(clf.coef_)        # final weights\n",
        "print(clf.intercept_)   # final bias weight\n",
        "print(clf.score(X, y))  # accuracy"
      ],
      "metadata": {
        "colab": {
          "base_uri": "https://localhost:8080/"
        },
        "id": "51LIbpSmk7Mp",
        "outputId": "c947297c-3e8e-49b7-e8a8-39b80299e143"
      },
      "execution_count": 30,
      "outputs": [
        {
          "output_type": "stream",
          "name": "stdout",
          "text": [
            "-- Epoch 1\n",
            "Norm: 2.07, NNZs: 4, Bias: -0.400000, T: 105, Avg. loss: 0.699952\n",
            "Total training time: 0.00 seconds.\n",
            "-- Epoch 2\n",
            "Norm: 2.31, NNZs: 4, Bias: -0.400000, T: 210, Avg. loss: 0.372800\n",
            "Total training time: 0.00 seconds.\n",
            "-- Epoch 3\n",
            "Norm: 2.83, NNZs: 4, Bias: -0.500000, T: 315, Avg. loss: 0.460324\n",
            "Total training time: 0.01 seconds.\n",
            "-- Epoch 4\n",
            "Norm: 2.96, NNZs: 4, Bias: -0.500000, T: 420, Avg. loss: 0.129400\n",
            "Total training time: 0.01 seconds.\n",
            "-- Epoch 5\n",
            "Norm: 3.68, NNZs: 4, Bias: -0.700000, T: 525, Avg. loss: 0.561410\n",
            "Total training time: 0.01 seconds.\n",
            "-- Epoch 6\n",
            "Norm: 4.58, NNZs: 4, Bias: -0.900000, T: 630, Avg. loss: 0.582362\n",
            "Total training time: 0.01 seconds.\n",
            "-- Epoch 7\n",
            "Norm: 5.08, NNZs: 4, Bias: -1.000000, T: 735, Avg. loss: 0.434476\n",
            "Total training time: 0.01 seconds.\n",
            "-- Epoch 8\n",
            "Norm: 5.41, NNZs: 4, Bias: -1.100000, T: 840, Avg. loss: 0.520495\n",
            "Total training time: 0.01 seconds.\n",
            "-- Epoch 9\n",
            "Norm: 6.11, NNZs: 4, Bias: -1.300000, T: 945, Avg. loss: 0.390286\n",
            "Total training time: 0.01 seconds.\n",
            "Convergence after 9 epochs took 0.01 seconds\n",
            "[[-3.16 -2.23  3.4   3.29]]\n",
            "[-1.3]\n",
            "0.6222222222222222\n",
            "-- Epoch 1\n",
            "Norm: 2.69, NNZs: 4, Bias: -0.600000, T: 150, Avg. loss: 0.893633\n",
            "Total training time: 0.00 seconds.\n",
            "-- Epoch 2\n",
            "Norm: 3.61, NNZs: 4, Bias: -0.700000, T: 300, Avg. loss: 0.648520\n",
            "Total training time: 0.00 seconds.\n",
            "-- Epoch 3\n",
            "Norm: 4.42, NNZs: 4, Bias: -1.100000, T: 450, Avg. loss: 0.532613\n",
            "Total training time: 0.00 seconds.\n",
            "-- Epoch 4\n",
            "Norm: 5.08, NNZs: 4, Bias: -1.300000, T: 600, Avg. loss: 0.373107\n",
            "Total training time: 0.00 seconds.\n",
            "-- Epoch 5\n",
            "Norm: 5.56, NNZs: 4, Bias: -1.300000, T: 750, Avg. loss: 0.268080\n",
            "Total training time: 0.00 seconds.\n",
            "-- Epoch 6\n",
            "Norm: 5.93, NNZs: 4, Bias: -1.400000, T: 900, Avg. loss: 0.167400\n",
            "Total training time: 0.00 seconds.\n",
            "-- Epoch 7\n",
            "Norm: 6.44, NNZs: 4, Bias: -1.600000, T: 1050, Avg. loss: 0.402527\n",
            "Total training time: 0.00 seconds.\n",
            "-- Epoch 8\n",
            "Norm: 6.63, NNZs: 4, Bias: -1.600000, T: 1200, Avg. loss: 0.171993\n",
            "Total training time: 0.00 seconds.\n",
            "-- Epoch 9\n",
            "Norm: 7.03, NNZs: 4, Bias: -1.800000, T: 1350, Avg. loss: 0.254873\n",
            "Total training time: 0.00 seconds.\n",
            "-- Epoch 10\n",
            "Norm: 7.33, NNZs: 4, Bias: -1.900000, T: 1500, Avg. loss: 0.128753\n",
            "Total training time: 0.00 seconds.\n",
            "-- Epoch 11\n",
            "Norm: 7.55, NNZs: 4, Bias: -1.900000, T: 1650, Avg. loss: 0.114560\n",
            "Total training time: 0.00 seconds.\n",
            "-- Epoch 12\n",
            "Norm: 7.91, NNZs: 4, Bias: -2.000000, T: 1800, Avg. loss: 0.225507\n",
            "Total training time: 0.00 seconds.\n",
            "-- Epoch 13\n",
            "Norm: 8.29, NNZs: 4, Bias: -2.100000, T: 1950, Avg. loss: 0.240900\n",
            "Total training time: 0.00 seconds.\n",
            "-- Epoch 14\n",
            "Norm: 8.65, NNZs: 4, Bias: -2.300000, T: 2100, Avg. loss: 0.278533\n",
            "Total training time: 0.00 seconds.\n",
            "-- Epoch 15\n",
            "Norm: 8.97, NNZs: 4, Bias: -2.400000, T: 2250, Avg. loss: 0.168113\n",
            "Total training time: 0.00 seconds.\n",
            "-- Epoch 16\n",
            "Norm: 9.37, NNZs: 4, Bias: -2.500000, T: 2400, Avg. loss: 0.218580\n",
            "Total training time: 0.00 seconds.\n",
            "Convergence after 16 epochs took 0.00 seconds\n",
            "[[-4.02 -3.15  5.56  5.55]]\n",
            "[-2.5]\n",
            "0.9866666666666667\n"
          ]
        },
        {
          "output_type": "stream",
          "name": "stderr",
          "text": [
            "/usr/local/lib/python3.10/dist-packages/sklearn/utils/validation.py:1183: DataConversionWarning: A column-vector y was passed when a 1d array was expected. Please change the shape of y to (n_samples, ), for example using ravel().\n",
            "  y = column_or_1d(y, warn=True)\n",
            "/usr/local/lib/python3.10/dist-packages/sklearn/utils/validation.py:1183: DataConversionWarning: A column-vector y was passed when a 1d array was expected. Please change the shape of y to (n_samples, ), for example using ravel().\n",
            "  y = column_or_1d(y, warn=True)\n"
          ]
        }
      ]
    },
    {
      "cell_type": "markdown",
      "metadata": {
        "id": "BqSFAXwlk3Ms"
      },
      "source": [
        "*Discuss how the perceptron did on the data set and why you think it performed as such.*\n",
        "- I downloaded the Iris dataset from the UC Irvine repository. Because the data was in a CSV file instead of an ARFF file, loading it was a little different. I used `open` to open the CSV file, read and converted the data to a list, and then converted the list into a NumPy array. I then extracted X (all cols except last) and y (just the last col) from the array for inputs and targets.\n",
        "- The target data originally had three classifications: (1) Iris-setosa, (2) Iris-versicolor, and (3) Iris-virginica. Because Perceptron is a binary classifier, I decided to classify data sets as either Iris-verginica or other. To do this, I modified the y series to swap out any value containing 'Iris-virginica' for a 1 and anything else to a 0.\n",
        "- Before training, I divided the data into a test set and a training set, using 30% of the data for testing and 70% for training.\n",
        "- The results were not very surprising. The final accuracy was 86%, though I did run it multiple times, and got a range of accuracies (ranging from ~60% to 100%). The reason for this variance is that I only split my data once. Because of this, so much of the accuracy was dependent on the luck of how the test set was divided.\n",
        "- I also fitted a Perceptron to the data using all the data as the training set, and scored it using all the data as the test set. This yielded 98.6% accuracy, which was expected because all the data it was tested on had also been used for training so there were no surprises. Again, the reason that the results were not 100% accurate is due to the fact that this set is not 100% linearly separable, so some inputs lied on the wrong side of the classification line."
      ]
    },
    {
      "cell_type": "markdown",
      "metadata": {
        "id": "cTlK-kijk8Mg"
      },
      "source": [
        "## 5. (Optional 15% extra credit) Code up your own perceptron learner\n",
        "\n",
        "Past versions of this class required students to code up their own version of each model and then compare results with scikit-learn.  Actually coding a model leads to better understanding of what is really happening \"under the hood.\"  Though not required for this class, we give a significant extra credit reward for each lab to those who choose to code their own models.  If you choose to do this, your code must be your own, and NOT taken from any other source (including the text).  Once you are done coding we encourage you to look at other versions to see how yours compares.  Below is a scaffold you could use if you want. Requirements for this task:\n",
        "- Your perceptron should support the methods shown in the example scaffold below.\n",
        "- Your output node should output 1 if net is > 0, else 0.\n",
        "- Use Stochastic/On-line training updates: Iterate and update weights after each training instance (i.e. not batch updates)\n",
        "- Implement a stopping criteria: when your model has trained for a number of epochs with no improvement in accuracy, stop training. Note that the weights/accuracy do not usually change monotonically.\n",
        "- Your class can inherit from the relevant scikit-learn learners (e.g. data shuffling, etc.), but don't call any of the super methods to accomplish the core methods in the scaffold.\n",
        "- Run the evaluation data set and the voting data set above with your Perceptron version. Show and discuss your results and how they compare with the scikit-learn version."
      ]
    },
    {
      "cell_type": "code",
      "source": [
        "def get_np_from_arff(data_file: str):\n",
        "  Data_Set = arff.loadarff(data_file)\n",
        "  Data_Set_df = pd.DataFrame(Data_Set[0])\n",
        "\n",
        "  return Data_Set_df.to_numpy()\n",
        "\n",
        "def load_debug_arff() -> Tuple[ndarray, ndarray]:\n",
        "  # load evaluation data\n",
        "  Data_Set_np = get_np_from_arff('debug.arff')\n",
        "  Data_Set_np = Data_Set_np.astype(float)\n",
        "  X = Data_Set_np[:, :-1]\n",
        "  y = Data_Set_np[:, -1]\n",
        "\n",
        "  return X, y\n",
        "\n",
        "def load_voting_arff() -> Tuple[ndarray, ndarray]:\n",
        "  Data_Set_np = get_np_from_arff('voting-dataset.arff')\n",
        "  X = Data_Set_np[:, :-1]\n",
        "  y = Data_Set_np[:, -1]\n",
        "  X = np.where(X == b'y', 1, 0) # n: 0, y: 1\n",
        "  y = np.where(y == b'republican', 1, 0) # democrat: 0, republican: 1\n",
        "\n",
        "  return X, y"
      ],
      "metadata": {
        "id": "feJBdV75PLrK"
      },
      "execution_count": 57,
      "outputs": []
    },
    {
      "cell_type": "code",
      "execution_count": 84,
      "metadata": {
        "id": "3a1p8sag5fJS"
      },
      "outputs": [],
      "source": [
        "from sklearn.base import BaseEstimator, ClassifierMixin\n",
        "from sklearn.utils import shuffle\n",
        "class PerceptronClassifier(BaseEstimator,ClassifierMixin):\n",
        "\n",
        "    def __init__(self, lr=.1, shuffle=True, tol=.001):\n",
        "        \"\"\"\n",
        "            Initialize class with chosen hyperparameters.\n",
        "        Args:\n",
        "            lr (float): A learning rate / step size.\n",
        "            shuffle: Whether to shuffle the training data each epoch. DO NOT\n",
        "            SHUFFLE for evaluation / debug datasets.\n",
        "        \"\"\"\n",
        "        self.lr = lr\n",
        "        self.shuffle = shuffle\n",
        "        self.tol = tol\n",
        "\n",
        "    def fit(self, X, y, initial_weights=None):\n",
        "        \"\"\"\n",
        "            Fit the data; run the algorithm and adjust the weights to find a\n",
        "            good solution\n",
        "        Args:\n",
        "            X (array-like): A 2D numpy array with the training data, excluding\n",
        "            targets\n",
        "            y (array-like): A 2D numpy array with the training targets\n",
        "            initial_weights (array-like): allows the user to provide initial\n",
        "            weights\n",
        "        Returns:\n",
        "            self: this allows this to be chained, e.g. model.fit(X,y).predict(X_test)\n",
        "        \"\"\"\n",
        "        # insert bias weight (1's in last col)\n",
        "        X = np.insert(X, X.shape[1], 1, axis=1)\n",
        "        self.weights = self.initialize_weights(X) if not initial_weights else initial_weights\n",
        "\n",
        "        # compute epochs until 3 consequtive epochs have no weight change greater than TOL\n",
        "        n_epochs_below_tol, n_epochs = 0, 0\n",
        "        while n_epochs_below_tol < 3 and n_epochs < 100:\n",
        "            # run epoch\n",
        "            max_change = self.run_epoch(X, y)\n",
        "\n",
        "            # prepare for next epoch\n",
        "            n_epochs += 1\n",
        "            n_epochs_below_tol = n_epochs_below_tol + 1 if max_change < self.tol else 0\n",
        "            if self.shuffle:\n",
        "              X, y = shuffle(X, y)\n",
        "\n",
        "        return self\n",
        "\n",
        "    def predict(self, X: ndarray):\n",
        "        \"\"\"\n",
        "            Predicts all classes for a dataset X\n",
        "        Args:\n",
        "            X (array-like): A 2D numpy array with the training data, excluding\n",
        "            targets\n",
        "        Returns:\n",
        "            array: Predicted target values per element in X.\n",
        "        \"\"\"\n",
        "        # insert bias weight (1's in last col)\n",
        "        X = np.insert(X, X.shape[1], 1, axis=1)\n",
        "\n",
        "        # get predictions\n",
        "        n_rows = X.shape[0]\n",
        "        out = np.zeros(n_rows)\n",
        "        for row in range(n_rows):\n",
        "            net = np.dot(X[row, :], self.weights)\n",
        "            out[row] = 1 if net > 0 else 0\n",
        "\n",
        "        return out\n",
        "\n",
        "    def initialize_weights(self, X: ndarray):\n",
        "        \"\"\" Initialize weights for perceptron. Don't forget the bias!\n",
        "        Returns:\n",
        "        \"\"\"\n",
        "        n_inputs = X.shape[1]\n",
        "\n",
        "        return np.zeros(n_inputs)\n",
        "\n",
        "    def score(self, X, y):\n",
        "        \"\"\"\n",
        "            Return accuracy of model on a given dataset. Must implement own\n",
        "            score function.\n",
        "        Args:\n",
        "            X (array-like): A 2D numpy array with data, excluding targets\n",
        "            y (array-like): A 2D numpy array with targets\n",
        "        Returns:\n",
        "            score : float\n",
        "                Mean accuracy of self.predict(X) wrt. y.\n",
        "        \"\"\"\n",
        "        z_arr = self.predict(X)\n",
        "\n",
        "        sum = 0.0\n",
        "        for i in range(len(y)):\n",
        "            sum += 1 if y[i] == z_arr[i] else 0\n",
        "\n",
        "        return sum / len(y)\n",
        "\n",
        "    def run_epoch(self, X: ndarray, y: ndarray) -> float:\n",
        "        '''Return max weight update from the epoch'''\n",
        "        n_rows, n_cols = X.shape[0], X.shape[1]\n",
        "        # visit each row\n",
        "        max_change = 0.0\n",
        "        for row in range(n_rows):\n",
        "            net = np.dot(X[row, :], self.weights)\n",
        "            z = 1 if net > 0 else 0\n",
        "\n",
        "            # update weights using curr row\n",
        "            for col in range(n_cols):\n",
        "                # delta_w = c(t - z)x_i\n",
        "                delta_w = (self.lr * (y[row] - z) * X[row, col]).item()\n",
        "\n",
        "                max_change = max(max_change, delta_w)\n",
        "                self.weights[col] += delta_w\n",
        "\n",
        "        return max_change\n",
        "\n",
        "    def get_weights(self):\n",
        "        '''Return the weights and bias'''\n",
        "        return self.weights"
      ]
    },
    {
      "cell_type": "code",
      "source": [
        "# debug.arff Test\n",
        "X, y = load_debug_arff()\n",
        "\n",
        "clf = PerceptronClassifier(lr=.1, shuffle=False)\n",
        "clf.fit(X, y)\n",
        "print(\"Final weights (including bias): \", str(clf.get_weights()))\n",
        "print(clf.score(X, y))"
      ],
      "metadata": {
        "colab": {
          "base_uri": "https://localhost:8080/"
        },
        "id": "zGUiECfWqehX",
        "outputId": "bc076e65-559e-4ab0-80a8-a38ebc8ad215"
      },
      "execution_count": 92,
      "outputs": [
        {
          "output_type": "stream",
          "name": "stdout",
          "text": [
            "Final weights (including bias):  [-0.24  0.2  -0.1 ]\n",
            "1.0\n"
          ]
        }
      ]
    },
    {
      "cell_type": "code",
      "source": [
        "# voting-dataset.arff Test\n",
        "X, y = load_voting_arff()\n",
        "\n",
        "clf = PerceptronClassifier(lr=1, shuffle=True)\n",
        "clf.fit(X, y)\n",
        "print(\"Final weights (including bias): \", str(clf.get_weights()))\n",
        "print(clf.score(X, y))"
      ],
      "metadata": {
        "colab": {
          "base_uri": "https://localhost:8080/"
        },
        "id": "WFbwVRoiPmp4",
        "outputId": "b08cce3b-febf-4224-cc59-0092b591deb7"
      },
      "execution_count": 90,
      "outputs": [
        {
          "output_type": "stream",
          "name": "stdout",
          "text": [
            "Final weights (including bias):  [ -3.  -2.  -8.  17.   5.   0.   6.  10.  -9.   5. -10.   0.   3.  -1.\n",
            "  -6.   2. -13.]\n",
            "0.96529284164859\n"
          ]
        }
      ]
    },
    {
      "cell_type": "markdown",
      "source": [
        "Discussion:\n",
        "- I implemented my Perceptron using the scafhold code. To implement it, I reviewed the Perceptron homework from last week, and simply followed the same procedure. I tested my implementation using 2 epochs of a simple set that I worked out on paper, and all variables were the same.\n",
        "- I ran my Perceptron on two other datasets. The first was `debug.arff`. Like in 1.1 (above), I used shuffle=False. While my results were not exactly the same, they were very close (Scikit Perceptron: -.23, .2, -.1, My Perceptron: -.23, .18, -.1). I imagine that this slight variation could have to do with different stopping criteria (both may not have run the same # of epochs). It could also have to do with different weight initialization (I initialize to 0's). Regardless, because the data was linearly separable and training did work properly, the final accuracy was 100%.\n",
        "- The second data set that I ran my Perceptron on was the `voting-dataset.arff`. After training, I scored the model using the training dataset and achieved 96.52% accuracy. This is significant because this was actually slightly better (though overall performing almost identically) than the 96.14% (average over 5 trials) that the Scikit-Learn Perceptron scored in 3.1 (also scoring with the training dataset).\n",
        "- Looking at weights, I can see that the same features were significant as were after training on the Skikit-Learn perceptron. For example, `physician-fee-freeze` scored a 17 indicating that having this feature makes an individual very likely to be a Republican. Additionally, `synfuels-corporation-cutback` scored -10 which indicates that having this viewpoint makes an individual more likely to be a Democrat. Both of these weights are the same values that the Scikit-Learn Perceptron produced."
      ],
      "metadata": {
        "id": "7CMp7l4Oqw0Y"
      }
    }
  ],
  "metadata": {
    "colab": {
      "provenance": []
    },
    "kernelspec": {
      "display_name": "Python 2.7.16 64-bit",
      "language": "python",
      "name": "python3"
    },
    "language_info": {
      "codemirror_mode": {
        "name": "ipython",
        "version": 3
      },
      "file_extension": ".py",
      "mimetype": "text/x-python",
      "name": "python",
      "nbconvert_exporter": "python",
      "pygments_lexer": "ipython3",
      "version": "3.11.4"
    },
    "vscode": {
      "interpreter": {
        "hash": "767d51c1340bd893661ea55ea3124f6de3c7a262a8b4abca0554b478b1e2ff90"
      }
    }
  },
  "nbformat": 4,
  "nbformat_minor": 0
}